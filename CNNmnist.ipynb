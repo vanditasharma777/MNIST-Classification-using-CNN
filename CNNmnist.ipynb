{
  "nbformat": 4,
  "nbformat_minor": 0,
  "metadata": {
    "colab": {
      "name": "CNNmnist.ipynb",
      "provenance": [],
      "collapsed_sections": [],
      "toc_visible": true,
      "authorship_tag": "ABX9TyNVV3u/uRdusyrSNML7Wko1",
      "include_colab_link": true
    },
    "kernelspec": {
      "name": "python3",
      "display_name": "Python 3"
    }
  },
  "cells": [
    {
      "cell_type": "markdown",
      "metadata": {
        "id": "view-in-github",
        "colab_type": "text"
      },
      "source": [
        "<a href=\"https://colab.research.google.com/github/vanditasharma777/MNIST-Classification-using-CNN/blob/master/CNNmnist.ipynb\" target=\"_parent\"><img src=\"https://colab.research.google.com/assets/colab-badge.svg\" alt=\"Open In Colab\"/></a>"
      ]
    },
    {
      "cell_type": "code",
      "metadata": {
        "id": "mVi0JgIpqWE2",
        "colab_type": "code",
        "outputId": "12dced1a-229c-4740-c351-b7ac19d93a73",
        "colab": {
          "base_uri": "https://localhost:8080/",
          "height": 34
        }
      },
      "source": [
        "import keras\n",
        "import tensorflow\n",
        "from keras.datasets import mnist \n",
        "from keras.models import Sequential \n",
        "from keras.layers import Dense, Dropout, Flatten \n",
        "from keras.layers import Conv2D, MaxPooling2D\n",
        "from keras import backend as k\n",
        "import keras.utils \n",
        "batch_size = 128\n",
        "num_classes = 10\n",
        "epochs = 12"
      ],
      "execution_count": 0,
      "outputs": [
        {
          "output_type": "stream",
          "text": [
            "Using TensorFlow backend.\n"
          ],
          "name": "stderr"
        }
      ]
    },
    {
      "cell_type": "code",
      "metadata": {
        "id": "RNstLBI2qZES",
        "colab_type": "code",
        "outputId": "edc001aa-8d8f-4635-9b18-09bb1b835bc9",
        "colab": {
          "base_uri": "https://localhost:8080/",
          "height": 51
        }
      },
      "source": [
        "# input image dimensions\n",
        "img_rows, img_cols = 28, 28\n",
        "\n",
        "# the data, split between train and test sets\n",
        "(x_train, y_train), (x_test, y_test) = mnist.load_data()\n"
      ],
      "execution_count": 0,
      "outputs": [
        {
          "output_type": "stream",
          "text": [
            "Downloading data from https://s3.amazonaws.com/img-datasets/mnist.npz\n",
            "11493376/11490434 [==============================] - 2s 0us/step\n"
          ],
          "name": "stdout"
        }
      ]
    },
    {
      "cell_type": "code",
      "metadata": {
        "id": "yTql7x4Eqn9J",
        "colab_type": "code",
        "outputId": "03290353-9d25-4160-ed02-38452dfd326d",
        "colab": {
          "base_uri": "https://localhost:8080/",
          "height": 68
        }
      },
      "source": [
        "#print the new label\n",
        "if k.image_data_format() == 'channels_first':\n",
        "    x_train = x_train.reshape(x_train.shape[0], 1, img_rows, img_cols)\n",
        "    x_test = x_test.reshape(x_test.shape[0], 1, img_rows, img_cols)\n",
        "    input_shape = (1, img_rows, img_cols)\n",
        "else:\n",
        "    x_train = x_train.reshape(x_train.shape[0], img_rows, img_cols, 1)\n",
        "    x_test = x_test.reshape(x_test.shape[0], img_rows, img_cols, 1)\n",
        "    input_shape = (img_rows, img_cols, 1)\n",
        "\n",
        "x_train = x_train.astype('float32')\n",
        "x_test = x_test.astype('float32')\n",
        "x_train /= 255\n",
        "x_test /= 255\n",
        "print('x_train shape:', x_train.shape)\n",
        "print(x_train.shape[0], 'train samples')\n",
        "print(x_test.shape[0], 'test samples')\n"
      ],
      "execution_count": 0,
      "outputs": [
        {
          "output_type": "stream",
          "text": [
            "x_train shape: (60000, 28, 28, 1)\n",
            "60000 train samples\n",
            "10000 test samples\n"
          ],
          "name": "stdout"
        }
      ]
    },
    {
      "cell_type": "code",
      "metadata": {
        "id": "08T01Lm7qsEu",
        "colab_type": "code",
        "colab": {}
      },
      "source": [
        "# convert class vectors to binary class matrices\n",
        "y_train = keras.utils.to_categorical(y_train, num_classes)\n",
        "y_test = keras.utils.to_categorical(y_test, num_classes)"
      ],
      "execution_count": 0,
      "outputs": []
    },
    {
      "cell_type": "code",
      "metadata": {
        "id": "NWv2GB7eqxfO",
        "colab_type": "code",
        "outputId": "3214418c-b07b-468c-b10a-de1873ab291a",
        "colab": {
          "base_uri": "https://localhost:8080/",
          "height": 496
        }
      },
      "source": [
        "# Build the CNN model\n",
        "model = keras.models.Sequential()\n",
        "model = Sequential()\n",
        "model.add(Conv2D(32, kernel_size=(3, 3),\n",
        "                 activation='relu',\n",
        "                 input_shape=input_shape))\n",
        "model.add(Conv2D(64, (3, 3), activation='relu'))\n",
        "model.add(MaxPooling2D(pool_size=(2, 2)))\n",
        "model.add(Dropout(0.25))\n",
        "model.add(Flatten())\n",
        "model.add(Dense(128, activation='relu'))\n",
        "model.add(Dropout(0.5))\n",
        "model.add(Dense(num_classes, activation='softmax'))\n",
        "\n",
        "model.compile(loss=keras.losses.categorical_crossentropy,\n",
        "              optimizer=keras.optimizers.Adadelta(),\n",
        "              metrics=['accuracy'])\n",
        "\n",
        "model.fit(x_train, y_train,\n",
        "          batch_size=batch_size,\n",
        "          epochs=epochs,\n",
        "          verbose=1,\n",
        "          validation_data=(x_test, y_test))\n",
        "score = model.evaluate(x_test, y_test, verbose=0)\n",
        "print('Test loss:', score[0])\n",
        "print('Test accuracy:', score[1])"
      ],
      "execution_count": 9,
      "outputs": [
        {
          "output_type": "stream",
          "text": [
            "Train on 60000 samples, validate on 10000 samples\n",
            "Epoch 1/12\n",
            "60000/60000 [==============================] - 146s 2ms/step - loss: 0.2585 - accuracy: 0.9208 - val_loss: 0.0562 - val_accuracy: 0.9819\n",
            "Epoch 2/12\n",
            "60000/60000 [==============================] - 145s 2ms/step - loss: 0.0833 - accuracy: 0.9754 - val_loss: 0.0395 - val_accuracy: 0.9873\n",
            "Epoch 3/12\n",
            "60000/60000 [==============================] - 151s 3ms/step - loss: 0.0640 - accuracy: 0.9812 - val_loss: 0.0357 - val_accuracy: 0.9872\n",
            "Epoch 4/12\n",
            "60000/60000 [==============================] - 144s 2ms/step - loss: 0.0525 - accuracy: 0.9841 - val_loss: 0.0285 - val_accuracy: 0.9905\n",
            "Epoch 5/12\n",
            "60000/60000 [==============================] - 144s 2ms/step - loss: 0.0455 - accuracy: 0.9864 - val_loss: 0.0276 - val_accuracy: 0.9904\n",
            "Epoch 6/12\n",
            "60000/60000 [==============================] - 144s 2ms/step - loss: 0.0415 - accuracy: 0.9876 - val_loss: 0.0260 - val_accuracy: 0.9911\n",
            "Epoch 7/12\n",
            "60000/60000 [==============================] - 144s 2ms/step - loss: 0.0365 - accuracy: 0.9887 - val_loss: 0.0303 - val_accuracy: 0.9891\n",
            "Epoch 8/12\n",
            "60000/60000 [==============================] - 144s 2ms/step - loss: 0.0327 - accuracy: 0.9895 - val_loss: 0.0248 - val_accuracy: 0.9918\n",
            "Epoch 9/12\n",
            "60000/60000 [==============================] - 144s 2ms/step - loss: 0.0310 - accuracy: 0.9907 - val_loss: 0.0305 - val_accuracy: 0.9904\n",
            "Epoch 10/12\n",
            "60000/60000 [==============================] - 144s 2ms/step - loss: 0.0288 - accuracy: 0.9910 - val_loss: 0.0229 - val_accuracy: 0.9923\n",
            "Epoch 11/12\n",
            "60000/60000 [==============================] - 144s 2ms/step - loss: 0.0271 - accuracy: 0.9913 - val_loss: 0.0252 - val_accuracy: 0.9922\n",
            "Epoch 12/12\n",
            "60000/60000 [==============================] - 144s 2ms/step - loss: 0.0263 - accuracy: 0.9915 - val_loss: 0.0278 - val_accuracy: 0.9908\n",
            "Test loss: 0.02775778220342545\n",
            "Test accuracy: 0.9908000230789185\n"
          ],
          "name": "stdout"
        }
      ]
    },
    {
      "cell_type": "code",
      "metadata": {
        "id": "PcKwXYW9KYTN",
        "colab_type": "code",
        "colab": {}
      },
      "source": [
        ""
      ],
      "execution_count": 0,
      "outputs": []
    }
  ]
}