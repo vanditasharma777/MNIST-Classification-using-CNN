{
  "nbformat": 4,
  "nbformat_minor": 0,
  "metadata": {
    "colab": {
      "name": "CNN_MNIST.ipynb",
      "provenance": [],
      "collapsed_sections": [],
      "authorship_tag": "ABX9TyP0xi7tl/e196yGOWOAnVJn",
      "include_colab_link": true
    },
    "kernelspec": {
      "name": "python3",
      "display_name": "Python 3"
    }
  },
  "cells": [
    {
      "cell_type": "markdown",
      "metadata": {
        "id": "view-in-github",
        "colab_type": "text"
      },
      "source": [
        "<a href=\"https://colab.research.google.com/github/vanditasharma777/MNIST-Classification-using-CNN/blob/master/CNN_MNIST.ipynb\" target=\"_parent\"><img src=\"https://colab.research.google.com/assets/colab-badge.svg\" alt=\"Open In Colab\"/></a>"
      ]
    },
    {
      "cell_type": "markdown",
      "metadata": {
        "id": "iqjTcj4l03pY",
        "colab_type": "text"
      },
      "source": [
        "### COMPARISON OF CNN FOR VARIATIONS OF ACTIVATION FUNCTION                          AND NUMBER OF CONVOLUTIONAL LAYERS FOR MNIST DATASET "
      ]
    },
    {
      "cell_type": "code",
      "metadata": {
        "id": "mVi0JgIpqWE2",
        "colab_type": "code",
        "colab": {}
      },
      "source": [
        "import keras\n",
        "import tensorflow\n",
        "from keras.datasets import mnist \n",
        "from keras.models import Sequential \n",
        "from keras.layers import Dense, Dropout, Flatten \n",
        "from keras.layers import Conv2D, MaxPooling2D\n",
        "from keras import backend as k\n",
        "import keras.utils \n",
        "import sklearn\n",
        "from sklearn.metrics import classification_report,confusion_matrix\n",
        "batch_size = 128\n",
        "num_classes = 10\n",
        "epochs = 12"
      ],
      "execution_count": 0,
      "outputs": []
    },
    {
      "cell_type": "code",
      "metadata": {
        "id": "RNstLBI2qZES",
        "colab_type": "code",
        "outputId": "fe3dc41d-4874-4ba6-b341-6dbcda23ee5c",
        "colab": {
          "base_uri": "https://localhost:8080/",
          "height": 51
        }
      },
      "source": [
        "# input image dimensions\n",
        "img_rows, img_cols = 28, 28\n",
        "\n",
        "# the data, split between train and test sets\n",
        "(x_train, y_train), (x_test, y_test) = mnist.load_data()\n"
      ],
      "execution_count": 0,
      "outputs": [
        {
          "output_type": "stream",
          "text": [
            "Downloading data from https://s3.amazonaws.com/img-datasets/mnist.npz\n",
            "11493376/11490434 [==============================] - 2s 0us/step\n"
          ],
          "name": "stdout"
        }
      ]
    },
    {
      "cell_type": "code",
      "metadata": {
        "id": "yTql7x4Eqn9J",
        "colab_type": "code",
        "outputId": "00a5a0b5-473f-45ec-b63f-412f09cc8050",
        "colab": {
          "base_uri": "https://localhost:8080/",
          "height": 68
        }
      },
      "source": [
        "#print the new label\n",
        "if k.image_data_format() == 'channels_first':\n",
        "    x_train = x_train.reshape(x_train.shape[0], 1, img_rows, img_cols)\n",
        "    x_test = x_test.reshape(x_test.shape[0], 1, img_rows, img_cols)\n",
        "    input_shape = (1, img_rows, img_cols)\n",
        "else:\n",
        "    x_train = x_train.reshape(x_train.shape[0], img_rows, img_cols, 1)\n",
        "    x_test = x_test.reshape(x_test.shape[0], img_rows, img_cols, 1)\n",
        "    input_shape = (img_rows, img_cols, 1)\n",
        "\n",
        "x_train = x_train.astype('float32')\n",
        "x_test = x_test.astype('float32')\n",
        "x_train /= 255\n",
        "x_test /= 255\n",
        "print('x_train shape:', x_train.shape)\n",
        "print(x_train.shape[0], 'train samples')\n",
        "print(x_test.shape[0], 'test samples')\n"
      ],
      "execution_count": 0,
      "outputs": [
        {
          "output_type": "stream",
          "text": [
            "x_train shape: (60000, 28, 28, 1)\n",
            "60000 train samples\n",
            "10000 test samples\n"
          ],
          "name": "stdout"
        }
      ]
    },
    {
      "cell_type": "code",
      "metadata": {
        "id": "08T01Lm7qsEu",
        "colab_type": "code",
        "colab": {}
      },
      "source": [
        "# convert class vectors to binary class matrices\n",
        "y_train = keras.utils.to_categorical(y_train, num_classes)\n",
        "y_test = keras.utils.to_categorical(y_test, num_classes)\n"
      ],
      "execution_count": 0,
      "outputs": []
    },
    {
      "cell_type": "markdown",
      "metadata": {
        "id": "AomJ61zsoDde",
        "colab_type": "text"
      },
      "source": [
        "### **1. Using relu activation function with kernel size(3,3) with 2 Convolutional Layers**"
      ]
    },
    {
      "cell_type": "code",
      "metadata": {
        "id": "NWv2GB7eqxfO",
        "colab_type": "code",
        "outputId": "796a90b7-82fd-45a7-a315-af084f600b66",
        "colab": {
          "base_uri": "https://localhost:8080/",
          "height": 476
        }
      },
      "source": [
        "# Build the CNN model\n",
        "model = keras.models.Sequential()\n",
        "model = Sequential()\n",
        "model.add(Conv2D(32, kernel_size=(3, 3),\n",
        "                 activation='relu',\n",
        "                 input_shape=input_shape))\n",
        "model.add(Conv2D(64, (3, 3), activation='relu'))\n",
        "model.add(MaxPooling2D(pool_size=(2, 2)))\n",
        "model.add(Dropout(0.25))\n",
        "model.add(Flatten())\n",
        "model.add(Dense(128, activation='relu'))\n",
        "model.add(Dropout(0.5))\n",
        "model.add(Dense(num_classes, activation='softmax'))\n",
        "\n",
        "model.compile(loss=keras.losses.categorical_crossentropy,\n",
        "              optimizer=keras.optimizers.Adadelta(),\n",
        "              metrics=['accuracy'])\n",
        "\n",
        "model.fit(x_train, y_train,\n",
        "          batch_size=batch_size,\n",
        "          epochs=epochs,\n",
        "          verbose=1,\n",
        "          validation_data=(x_test, y_test))\n",
        "score = model.evaluate(x_test, y_test, verbose=0)\n",
        "print('Test loss:', score[0])\n",
        "print('Test accuracy:', score[1])"
      ],
      "execution_count": 0,
      "outputs": [
        {
          "output_type": "stream",
          "text": [
            "Train on 60000 samples, validate on 10000 samples\n",
            "Epoch 1/12\n",
            "60000/60000 [==============================] - 142s 2ms/step - loss: 0.2702 - accuracy: 0.9172 - val_loss: 0.0568 - val_accuracy: 0.9817\n",
            "Epoch 2/12\n",
            "60000/60000 [==============================] - 142s 2ms/step - loss: 0.0909 - accuracy: 0.9733 - val_loss: 0.0413 - val_accuracy: 0.9857\n",
            "Epoch 3/12\n",
            "60000/60000 [==============================] - 141s 2ms/step - loss: 0.0666 - accuracy: 0.9808 - val_loss: 0.0338 - val_accuracy: 0.9888\n",
            "Epoch 4/12\n",
            "60000/60000 [==============================] - 141s 2ms/step - loss: 0.0558 - accuracy: 0.9830 - val_loss: 0.0306 - val_accuracy: 0.9896\n",
            "Epoch 5/12\n",
            "60000/60000 [==============================] - 141s 2ms/step - loss: 0.0475 - accuracy: 0.9858 - val_loss: 0.0291 - val_accuracy: 0.9898\n",
            "Epoch 6/12\n",
            "60000/60000 [==============================] - 142s 2ms/step - loss: 0.0424 - accuracy: 0.9872 - val_loss: 0.0320 - val_accuracy: 0.9887\n",
            "Epoch 7/12\n",
            "60000/60000 [==============================] - 141s 2ms/step - loss: 0.0369 - accuracy: 0.9890 - val_loss: 0.0279 - val_accuracy: 0.9911\n",
            "Epoch 8/12\n",
            "60000/60000 [==============================] - 142s 2ms/step - loss: 0.0332 - accuracy: 0.9897 - val_loss: 0.0268 - val_accuracy: 0.9919\n",
            "Epoch 9/12\n",
            "60000/60000 [==============================] - 142s 2ms/step - loss: 0.0317 - accuracy: 0.9901 - val_loss: 0.0276 - val_accuracy: 0.9910\n",
            "Epoch 10/12\n",
            "60000/60000 [==============================] - 142s 2ms/step - loss: 0.0291 - accuracy: 0.9907 - val_loss: 0.0283 - val_accuracy: 0.9909\n",
            "Epoch 11/12\n",
            "60000/60000 [==============================] - 142s 2ms/step - loss: 0.0265 - accuracy: 0.9918 - val_loss: 0.0260 - val_accuracy: 0.9912\n",
            "Epoch 12/12\n",
            "60000/60000 [==============================] - 141s 2ms/step - loss: 0.0271 - accuracy: 0.9914 - val_loss: 0.0272 - val_accuracy: 0.9916\n",
            "Test loss: 0.027228310904316187\n",
            "Test accuracy: 0.991599977016449\n"
          ],
          "name": "stdout"
        }
      ]
    },
    {
      "cell_type": "code",
      "metadata": {
        "id": "4sLU-9ltrWUZ",
        "colab_type": "code",
        "outputId": "0524f576-90e7-4e0f-b0d5-28074234092b",
        "colab": {
          "base_uri": "https://localhost:8080/",
          "height": 187
        }
      },
      "source": [
        "test_predictions = model.predict_classes(x_test, batch_size=128, verbose=0) \n",
        "import numpy as np\n",
        "rounded_labels=np.argmax(y_test, axis=1)\n",
        "rounded_labels[1]\n",
        "cm = confusion_matrix(rounded_labels, test_predictions)\n",
        "print(cm)"
      ],
      "execution_count": 0,
      "outputs": [
        {
          "output_type": "stream",
          "text": [
            "[[ 975    0    1    0    0    0    1    0    2    1]\n",
            " [   0 1133    0    1    0    1    0    0    0    0]\n",
            " [   1    3 1019    1    1    0    0    5    2    0]\n",
            " [   0    0    1 1007    0    1    0    0    1    0]\n",
            " [   0    0    0    0  974    0    3    0    1    4]\n",
            " [   0    0    0    5    0  886    1    0    0    0]\n",
            " [   4    2    0    0    1    4  944    0    3    0]\n",
            " [   0    3    3    1    0    0    0 1019    1    1]\n",
            " [   1    0    1    2    0    0    0    1  967    2]\n",
            " [   0    1    0    1    4    4    0    3    4  992]]\n"
          ],
          "name": "stdout"
        }
      ]
    },
    {
      "cell_type": "code",
      "metadata": {
        "id": "z8NEbTlOS705",
        "colab_type": "code",
        "outputId": "941fb0f0-85c1-45c3-beae-ec07a16973de",
        "colab": {
          "base_uri": "https://localhost:8080/",
          "height": 323
        }
      },
      "source": [
        "print(\"classification_report:\")\n",
        "print(classification_report(rounded_labels, test_predictions, target_names= None))"
      ],
      "execution_count": 0,
      "outputs": [
        {
          "output_type": "stream",
          "text": [
            "classification_report:\n",
            "              precision    recall  f1-score   support\n",
            "\n",
            "           0       0.99      1.00      0.99       980\n",
            "           1       0.99      1.00      0.99      1135\n",
            "           2       1.00      0.99      0.99      1032\n",
            "           3       0.99      1.00      0.99      1010\n",
            "           4       0.99      0.99      0.99       982\n",
            "           5       0.99      0.99      0.99       892\n",
            "           6       0.99      0.99      0.99       958\n",
            "           7       1.00      0.99      1.00      1028\n",
            "           8       0.99      0.99      0.99       974\n",
            "           9       1.00      0.99      0.99      1009\n",
            "\n",
            "    accuracy                           0.99     10000\n",
            "   macro avg       0.99      0.99      0.99     10000\n",
            "weighted avg       0.99      0.99      0.99     10000\n",
            "\n"
          ],
          "name": "stdout"
        }
      ]
    },
    {
      "cell_type": "markdown",
      "metadata": {
        "id": "pgOPz-TkPQHF",
        "colab_type": "text"
      },
      "source": [
        "### **2. Using tanh activation function with kernel_size (3,3) with 2 CNN Layers**"
      ]
    },
    {
      "cell_type": "code",
      "metadata": {
        "id": "LJsl65pXPXde",
        "colab_type": "code",
        "outputId": "9ef2fa3d-32c9-43eb-d12c-0c74f1f5718d",
        "colab": {
          "base_uri": "https://localhost:8080/",
          "height": 476
        }
      },
      "source": [
        "model = keras.models.Sequential()\n",
        "model = Sequential()\n",
        "model.add(Conv2D(32, kernel_size=(3, 3), activation='tanh',input_shape=input_shape))\n",
        "model.add(Conv2D(64, (3, 3), activation='tanh'))\n",
        "model.add(MaxPooling2D(pool_size=(2, 2)))\n",
        "model.add(Dropout(0.25))\n",
        "model.add(Flatten())\n",
        "model.add(Dense(128, activation='tanh'))\n",
        "model.add(Dropout(0.5))\n",
        "model.add(Dense(num_classes, activation='softmax'))\n",
        "\n",
        "model.compile(loss=keras.losses.categorical_crossentropy,\n",
        "              optimizer=keras.optimizers.Adadelta(),\n",
        "              metrics=['accuracy'])\n",
        " \n",
        "model.fit(x_train, y_train,\n",
        "          batch_size=batch_size,\n",
        "          epochs=epochs,\n",
        "          verbose=1,\n",
        "          validation_data=(x_test, y_test))\n",
        "score = model.evaluate(x_test, y_test, verbose=0)\n",
        "print('Test loss:', score[0])\n",
        "print('Test accuracy:', score[1])"
      ],
      "execution_count": 0,
      "outputs": [
        {
          "output_type": "stream",
          "text": [
            "Train on 60000 samples, validate on 10000 samples\n",
            "Epoch 1/12\n",
            "60000/60000 [==============================] - 145s 2ms/step - loss: 0.2486 - accuracy: 0.9247 - val_loss: 0.1004 - val_accuracy: 0.9662\n",
            "Epoch 2/12\n",
            "60000/60000 [==============================] - 145s 2ms/step - loss: 0.1012 - accuracy: 0.9699 - val_loss: 0.0657 - val_accuracy: 0.9790\n",
            "Epoch 3/12\n",
            "60000/60000 [==============================] - 145s 2ms/step - loss: 0.0787 - accuracy: 0.9759 - val_loss: 0.0516 - val_accuracy: 0.9828\n",
            "Epoch 4/12\n",
            "60000/60000 [==============================] - 145s 2ms/step - loss: 0.0625 - accuracy: 0.9804 - val_loss: 0.0468 - val_accuracy: 0.9844\n",
            "Epoch 5/12\n",
            "60000/60000 [==============================] - 144s 2ms/step - loss: 0.0561 - accuracy: 0.9823 - val_loss: 0.0407 - val_accuracy: 0.9873\n",
            "Epoch 6/12\n",
            "60000/60000 [==============================] - 145s 2ms/step - loss: 0.0494 - accuracy: 0.9847 - val_loss: 0.0387 - val_accuracy: 0.9881\n",
            "Epoch 7/12\n",
            "60000/60000 [==============================] - 145s 2ms/step - loss: 0.0452 - accuracy: 0.9853 - val_loss: 0.0408 - val_accuracy: 0.9875\n",
            "Epoch 8/12\n",
            "60000/60000 [==============================] - 145s 2ms/step - loss: 0.0412 - accuracy: 0.9867 - val_loss: 0.0370 - val_accuracy: 0.9881\n",
            "Epoch 9/12\n",
            "60000/60000 [==============================] - 144s 2ms/step - loss: 0.0371 - accuracy: 0.9879 - val_loss: 0.0386 - val_accuracy: 0.9881\n",
            "Epoch 10/12\n",
            "60000/60000 [==============================] - 144s 2ms/step - loss: 0.0338 - accuracy: 0.9895 - val_loss: 0.0362 - val_accuracy: 0.9890\n",
            "Epoch 11/12\n",
            "60000/60000 [==============================] - 143s 2ms/step - loss: 0.0317 - accuracy: 0.9898 - val_loss: 0.0397 - val_accuracy: 0.9895\n",
            "Epoch 12/12\n",
            "60000/60000 [==============================] - 143s 2ms/step - loss: 0.0295 - accuracy: 0.9904 - val_loss: 0.0367 - val_accuracy: 0.9891\n",
            "Test loss: 0.03666473885357845\n",
            "Test accuracy: 0.9890999794006348\n"
          ],
          "name": "stdout"
        }
      ]
    },
    {
      "cell_type": "code",
      "metadata": {
        "id": "rFvaJgn9rd6R",
        "colab_type": "code",
        "outputId": "27fb1f8d-c552-4cde-ca5a-81e9b0881a41",
        "colab": {
          "base_uri": "https://localhost:8080/",
          "height": 187
        }
      },
      "source": [
        "  test_predictions = model.predict_classes(x_test, batch_size=128, verbose=0) \n",
        "import numpy as np\n",
        "rounded_labels=np.argmax(y_test, axis=1)\n",
        "rounded_labels[1]\n",
        "cm = confusion_matrix(rounded_labels, test_predictions)\n",
        "print(cm)"
      ],
      "execution_count": 0,
      "outputs": [
        {
          "output_type": "stream",
          "text": [
            "[[ 976    0    1    0    0    1    1    1    0    0]\n",
            " [   0 1130    1    1    0    0    1    1    1    0]\n",
            " [   1    1 1019    0    2    0    3    5    1    0]\n",
            " [   0    0    1  998    0    5    0    2    3    1]\n",
            " [   0    0    1    0  978    0    1    0    0    2]\n",
            " [   2    0    1    8    0  879    1    0    1    0]\n",
            " [   5    2    0    1    2    1  947    0    0    0]\n",
            " [   0    1    7    1    0    0    0 1018    1    0]\n",
            " [   2    2    3    1    1    1    0    2  959    3]\n",
            " [   1    2    0    1    9    4    0    3    2  987]]\n"
          ],
          "name": "stdout"
        }
      ]
    },
    {
      "cell_type": "code",
      "metadata": {
        "id": "6RwsnKCOTPKm",
        "colab_type": "code",
        "outputId": "13d42a9d-9a73-4896-f376-e90223580788",
        "colab": {
          "base_uri": "https://localhost:8080/",
          "height": 323
        }
      },
      "source": [
        "print(\"classification_report:\")\n",
        "print(classification_report(rounded_labels, test_predictions, target_names= None))"
      ],
      "execution_count": 0,
      "outputs": [
        {
          "output_type": "stream",
          "text": [
            "classification_report:\n",
            "              precision    recall  f1-score   support\n",
            "\n",
            "           0       0.99      1.00      0.99       980\n",
            "           1       0.99      1.00      0.99      1135\n",
            "           2       1.00      0.99      0.99      1032\n",
            "           3       0.99      1.00      0.99      1010\n",
            "           4       0.99      0.99      0.99       982\n",
            "           5       0.99      0.99      0.99       892\n",
            "           6       0.99      0.99      0.99       958\n",
            "           7       1.00      0.99      1.00      1028\n",
            "           8       0.99      0.99      0.99       974\n",
            "           9       1.00      0.99      0.99      1009\n",
            "\n",
            "    accuracy                           0.99     10000\n",
            "   macro avg       0.99      0.99      0.99     10000\n",
            "weighted avg       0.99      0.99      0.99     10000\n",
            "\n"
          ],
          "name": "stdout"
        }
      ]
    },
    {
      "cell_type": "markdown",
      "metadata": {
        "id": "YRPWQE1AvYhW",
        "colab_type": "text"
      },
      "source": [
        "### **3. Using relu activation function with kernel_size (4,4) and tanh activation function with Kernel_size (3,3)**"
      ]
    },
    {
      "cell_type": "code",
      "metadata": {
        "id": "_T-IZCI_PfpG",
        "colab_type": "code",
        "outputId": "34b075fb-962f-4454-d225-b0a0e181ed7d",
        "colab": {
          "base_uri": "https://localhost:8080/",
          "height": 476
        }
      },
      "source": [
        "model = keras.models.Sequential()\n",
        "model = Sequential()\n",
        "model.add(Conv2D(32, kernel_size=(4, 4),activation='relu',input_shape=input_shape))\n",
        "model.add(Conv2D(64, (3, 3), activation='tanh'))\n",
        "model.add(MaxPooling2D(pool_size=(2, 2)))\n",
        "model.add(Dropout(0.25))\n",
        "model.add(Flatten())\n",
        "model.add(Dense(128, activation='tanh'))\n",
        "model.add(Dropout(0.5))\n",
        "model.add(Dense(num_classes, activation='softmax'))\n",
        "\n",
        "model.compile(loss=keras.losses.categorical_crossentropy,\n",
        "              optimizer=keras.optimizers.Adadelta(),\n",
        "              metrics=['accuracy'])\n",
        " \n",
        "model.fit(x_train, y_train,\n",
        "          batch_size=batch_size,\n",
        "          epochs=epochs,\n",
        "          verbose=1,\n",
        "          validation_data=(x_test, y_test))\n",
        "score = model.evaluate(x_test, y_test, verbose=0)\n",
        "print('Test loss:', score[0])\n",
        "print('Test accuracy:', score[1])\n",
        "\n"
      ],
      "execution_count": 0,
      "outputs": [
        {
          "output_type": "stream",
          "text": [
            "Train on 60000 samples, validate on 10000 samples\n",
            "Epoch 1/12\n",
            "60000/60000 [==============================] - 138s 2ms/step - loss: 0.2194 - accuracy: 0.9332 - val_loss: 0.0582 - val_accuracy: 0.9826\n",
            "Epoch 2/12\n",
            "60000/60000 [==============================] - 133s 2ms/step - loss: 0.0783 - accuracy: 0.9768 - val_loss: 0.0502 - val_accuracy: 0.9832\n",
            "Epoch 3/12\n",
            "60000/60000 [==============================] - 133s 2ms/step - loss: 0.0625 - accuracy: 0.9809 - val_loss: 0.0376 - val_accuracy: 0.9874\n",
            "Epoch 4/12\n",
            "60000/60000 [==============================] - 133s 2ms/step - loss: 0.0511 - accuracy: 0.9845 - val_loss: 0.0372 - val_accuracy: 0.9886\n",
            "Epoch 5/12\n",
            "60000/60000 [==============================] - 138s 2ms/step - loss: 0.0445 - accuracy: 0.9865 - val_loss: 0.0337 - val_accuracy: 0.9886\n",
            "Epoch 6/12\n",
            "60000/60000 [==============================] - 133s 2ms/step - loss: 0.0423 - accuracy: 0.9872 - val_loss: 0.0372 - val_accuracy: 0.9880\n",
            "Epoch 7/12\n",
            "60000/60000 [==============================] - 133s 2ms/step - loss: 0.0359 - accuracy: 0.9892 - val_loss: 0.0324 - val_accuracy: 0.9902\n",
            "Epoch 8/12\n",
            "60000/60000 [==============================] - 133s 2ms/step - loss: 0.0318 - accuracy: 0.9902 - val_loss: 0.0341 - val_accuracy: 0.9883\n",
            "Epoch 9/12\n",
            "60000/60000 [==============================] - 133s 2ms/step - loss: 0.0322 - accuracy: 0.9896 - val_loss: 0.0307 - val_accuracy: 0.9900\n",
            "Epoch 10/12\n",
            "60000/60000 [==============================] - 133s 2ms/step - loss: 0.0272 - accuracy: 0.9917 - val_loss: 0.0297 - val_accuracy: 0.9902\n",
            "Epoch 11/12\n",
            "60000/60000 [==============================] - 133s 2ms/step - loss: 0.0244 - accuracy: 0.9928 - val_loss: 0.0281 - val_accuracy: 0.9918\n",
            "Epoch 12/12\n",
            "60000/60000 [==============================] - 133s 2ms/step - loss: 0.0222 - accuracy: 0.9928 - val_loss: 0.0293 - val_accuracy: 0.9903\n",
            "Test loss: 0.029262159219852764\n",
            "Test accuracy: 0.9902999997138977\n"
          ],
          "name": "stdout"
        }
      ]
    },
    {
      "cell_type": "code",
      "metadata": {
        "id": "DaV2tlBVL4u_",
        "colab_type": "code",
        "outputId": "73243749-0bf3-4b3c-b3a5-06895c201a7b",
        "colab": {
          "base_uri": "https://localhost:8080/",
          "height": 187
        }
      },
      "source": [
        "\n",
        "test_predictions = model.predict_classes(x_test, batch_size=128, verbose=0) \n",
        "import numpy as np\n",
        "rounded_labels=np.argmax(y_test, axis=1)\n",
        "rounded_labels[1]\n",
        "cm = confusion_matrix(rounded_labels, test_predictions)\n",
        "print(cm)"
      ],
      "execution_count": 0,
      "outputs": [
        {
          "output_type": "stream",
          "text": [
            "[[ 975    0    2    0    0    0    1    1    1    0]\n",
            " [   0 1131    1    1    0    0    1    1    0    0]\n",
            " [   2    1 1024    1    1    0    0    3    0    0]\n",
            " [   0    0    3 1005    0    1    0    0    1    0]\n",
            " [   1    0    1    0  970    0    4    0    0    6]\n",
            " [   2    0    1    5    0  882    1    0    0    1]\n",
            " [   4    1    0    1    3    3  946    0    0    0]\n",
            " [   0    1    8    1    0    0    0 1014    1    3]\n",
            " [   5    0    2    2    1    0    0    1  961    2]\n",
            " [   0    2    0    1    3    3    0    4    1  995]]\n"
          ],
          "name": "stdout"
        }
      ]
    },
    {
      "cell_type": "code",
      "metadata": {
        "id": "61c8P1GOVNY4",
        "colab_type": "code",
        "outputId": "efb53e37-3bf1-4bc1-8218-9c72bb35dec8",
        "colab": {
          "base_uri": "https://localhost:8080/",
          "height": 323
        }
      },
      "source": [
        "print(\"classification_report:\")\n",
        "print(classification_report(rounded_labels, test_predictions, target_names= None))"
      ],
      "execution_count": 0,
      "outputs": [
        {
          "output_type": "stream",
          "text": [
            "classification_report:\n",
            "              precision    recall  f1-score   support\n",
            "\n",
            "           0       0.99      1.00      0.99       980\n",
            "           1       0.99      1.00      0.99      1135\n",
            "           2       1.00      0.99      0.99      1032\n",
            "           3       0.99      1.00      0.99      1010\n",
            "           4       0.99      0.99      0.99       982\n",
            "           5       0.99      0.99      0.99       892\n",
            "           6       0.99      0.99      0.99       958\n",
            "           7       1.00      0.99      1.00      1028\n",
            "           8       0.99      0.99      0.99       974\n",
            "           9       1.00      0.99      0.99      1009\n",
            "\n",
            "    accuracy                           0.99     10000\n",
            "   macro avg       0.99      0.99      0.99     10000\n",
            "weighted avg       0.99      0.99      0.99     10000\n",
            "\n"
          ],
          "name": "stdout"
        }
      ]
    },
    {
      "cell_type": "markdown",
      "metadata": {
        "id": "yPa0ZaJQpYG3",
        "colab_type": "text"
      },
      "source": [
        "### **4. Using relu activation function with kernel_size (3,3) and tanh activation function with Kernel_size (4,4)**\n"
      ]
    },
    {
      "cell_type": "code",
      "metadata": {
        "id": "33FcqJVdpXjl",
        "colab_type": "code",
        "outputId": "d69754c5-69bd-4515-ad2e-8e04981a8d87",
        "colab": {
          "base_uri": "https://localhost:8080/",
          "height": 476
        }
      },
      "source": [
        "model = keras.models.Sequential()\n",
        "model = Sequential()\n",
        "model.add(Conv2D(32, kernel_size=(3, 3),activation='relu',input_shape=input_shape))\n",
        "model.add(Conv2D(64, (4, 4), activation='tanh'))\n",
        "model.add(MaxPooling2D(pool_size=(2, 2)))\n",
        "model.add(Dropout(0.25))\n",
        "model.add(Flatten())\n",
        "model.add(Dense(128, activation='relu'))\n",
        "model.add(Dropout(0.5))\n",
        "model.add(Dense(num_classes, activation='softmax'))\n",
        "\n",
        "model.compile(loss=keras.losses.categorical_crossentropy,\n",
        "              optimizer=keras.optimizers.Adadelta(),\n",
        "              metrics=['accuracy'])\n",
        "model.fit(x_train, y_train,\n",
        "          batch_size=batch_size,\n",
        "          epochs=epochs,\n",
        "          verbose=1,\n",
        "          validation_data=(x_test, y_test))\n",
        "score = model.evaluate(x_test, y_test, verbose=0)\n",
        "print('Test loss:', score[0])\n",
        "print('Test accuracy:', score[1])"
      ],
      "execution_count": 0,
      "outputs": [
        {
          "output_type": "stream",
          "text": [
            "Train on 60000 samples, validate on 10000 samples\n",
            "Epoch 1/12\n",
            "60000/60000 [==============================] - 201s 3ms/step - loss: 0.2555 - accuracy: 0.9224 - val_loss: 0.0670 - val_accuracy: 0.9799\n",
            "Epoch 2/12\n",
            "60000/60000 [==============================] - 201s 3ms/step - loss: 0.0921 - accuracy: 0.9717 - val_loss: 0.0411 - val_accuracy: 0.9866\n",
            "Epoch 3/12\n",
            "60000/60000 [==============================] - 200s 3ms/step - loss: 0.0679 - accuracy: 0.9796 - val_loss: 0.0376 - val_accuracy: 0.9876\n",
            "Epoch 4/12\n",
            "60000/60000 [==============================] - 201s 3ms/step - loss: 0.0569 - accuracy: 0.9826 - val_loss: 0.0350 - val_accuracy: 0.9885\n",
            "Epoch 5/12\n",
            "60000/60000 [==============================] - 200s 3ms/step - loss: 0.0488 - accuracy: 0.9853 - val_loss: 0.0279 - val_accuracy: 0.9905\n",
            "Epoch 6/12\n",
            "60000/60000 [==============================] - 201s 3ms/step - loss: 0.0450 - accuracy: 0.9863 - val_loss: 0.0289 - val_accuracy: 0.9901\n",
            "Epoch 7/12\n",
            "60000/60000 [==============================] - 205s 3ms/step - loss: 0.0391 - accuracy: 0.9877 - val_loss: 0.0274 - val_accuracy: 0.9912\n",
            "Epoch 8/12\n",
            "60000/60000 [==============================] - 201s 3ms/step - loss: 0.0352 - accuracy: 0.9896 - val_loss: 0.0286 - val_accuracy: 0.9911\n",
            "Epoch 9/12\n",
            "60000/60000 [==============================] - 201s 3ms/step - loss: 0.0310 - accuracy: 0.9899 - val_loss: 0.0308 - val_accuracy: 0.9909\n",
            "Epoch 10/12\n",
            "60000/60000 [==============================] - 207s 3ms/step - loss: 0.0283 - accuracy: 0.9905 - val_loss: 0.0293 - val_accuracy: 0.9908\n",
            "Epoch 11/12\n",
            "60000/60000 [==============================] - 201s 3ms/step - loss: 0.0279 - accuracy: 0.9909 - val_loss: 0.0286 - val_accuracy: 0.9914\n",
            "Epoch 12/12\n",
            "60000/60000 [==============================] - 201s 3ms/step - loss: 0.0258 - accuracy: 0.9919 - val_loss: 0.0288 - val_accuracy: 0.9919\n",
            "Test loss: 0.0287682992727548\n",
            "Test accuracy: 0.9919000267982483\n"
          ],
          "name": "stdout"
        }
      ]
    },
    {
      "cell_type": "code",
      "metadata": {
        "id": "bfMKd1hArieP",
        "colab_type": "code",
        "outputId": "6c4f007d-357c-4076-f832-4c5cdb87730a",
        "colab": {
          "base_uri": "https://localhost:8080/",
          "height": 187
        }
      },
      "source": [
        "test_predictions = model.predict_classes(x_test, batch_size=128, verbose=0) \n",
        "import numpy as np\n",
        "rounded_labels=np.argmax(y_test, axis=1)\n",
        "rounded_labels[1]\n",
        "cm = confusion_matrix(rounded_labels, test_predictions)\n",
        "print(cm)"
      ],
      "execution_count": 0,
      "outputs": [
        {
          "output_type": "stream",
          "text": [
            "[[ 977    0    1    0    0    0    1    0    0    1]\n",
            " [   0 1132    2    0    0    1    0    0    0    0]\n",
            " [   1    1 1028    0    0    0    0    2    0    0]\n",
            " [   0    0    3 1003    0    3    0    0    1    0]\n",
            " [   0    0    1    0  977    0    2    0    0    2]\n",
            " [   0    0    0    7    0  884    1    0    0    0]\n",
            " [   4    2    0    0    1    4  947    0    0    0]\n",
            " [   0    2    3    0    0    0    0 1021    1    1]\n",
            " [   2    0    2    1    0    1    0    1  965    2]\n",
            " [   1    1    0    0    3    4    0    3    2  995]]\n"
          ],
          "name": "stdout"
        }
      ]
    },
    {
      "cell_type": "code",
      "metadata": {
        "id": "eTGvaTleVShT",
        "colab_type": "code",
        "outputId": "8396912e-a8c9-43d2-cef3-cd27a0a97d2f",
        "colab": {
          "base_uri": "https://localhost:8080/",
          "height": 323
        }
      },
      "source": [
        "print(\"classification_report:\")\n",
        "print(classification_report(rounded_labels, test_predictions, target_names= None))"
      ],
      "execution_count": 0,
      "outputs": [
        {
          "output_type": "stream",
          "text": [
            "classification_report:\n",
            "              precision    recall  f1-score   support\n",
            "\n",
            "           0       0.99      1.00      0.99       980\n",
            "           1       0.99      1.00      0.99      1135\n",
            "           2       1.00      0.99      0.99      1032\n",
            "           3       0.99      1.00      0.99      1010\n",
            "           4       0.99      0.99      0.99       982\n",
            "           5       0.99      0.99      0.99       892\n",
            "           6       0.99      0.99      0.99       958\n",
            "           7       1.00      0.99      1.00      1028\n",
            "           8       0.99      0.99      0.99       974\n",
            "           9       1.00      0.99      0.99      1009\n",
            "\n",
            "    accuracy                           0.99     10000\n",
            "   macro avg       0.99      0.99      0.99     10000\n",
            "weighted avg       0.99      0.99      0.99     10000\n",
            "\n"
          ],
          "name": "stdout"
        }
      ]
    },
    {
      "cell_type": "markdown",
      "metadata": {
        "id": "qbvGV8sUsWr-",
        "colab_type": "text"
      },
      "source": [
        "### **5. Using tanh activation function with kernel_size (4,4) with 2 CNN layers**"
      ]
    },
    {
      "cell_type": "code",
      "metadata": {
        "id": "LtBd-unRykIy",
        "colab_type": "code",
        "outputId": "bc3343a3-cd42-44d1-b64f-671d2566b29d",
        "colab": {
          "base_uri": "https://localhost:8080/",
          "height": 476
        }
      },
      "source": [
        "model = keras.models.Sequential()\n",
        "model = Sequential()\n",
        "model.add(Conv2D(32, kernel_size=(4, 4), activation='tanh',input_shape=input_shape))\n",
        "model.add(Conv2D(64, (4, 4), activation='tanh'))\n",
        "model.add(MaxPooling2D(pool_size=(2, 2)))\n",
        "model.add(Dropout(0.25))\n",
        "model.add(Flatten())\n",
        "model.add(Dense(128, activation='tanh'))\n",
        "model.add(Dropout(0.5))\n",
        "model.add(Dense(num_classes, activation='softmax'))\n",
        "\n",
        "model.compile(loss=keras.losses.categorical_crossentropy,\n",
        "              optimizer=keras.optimizers.Adadelta(),\n",
        "              metrics=['accuracy'])\n",
        " \n",
        "model.fit(x_train, y_train,\n",
        "          batch_size=batch_size,\n",
        "          epochs=epochs,\n",
        "          verbose=1,\n",
        "          validation_data=(x_test, y_test))\n",
        "score = model.evaluate(x_test, y_test, verbose=0)\n",
        "print('Test loss:', score[0])\n",
        "print('Test accuracy:', score[1])\n"
      ],
      "execution_count": 0,
      "outputs": [
        {
          "output_type": "stream",
          "text": [
            "Train on 60000 samples, validate on 10000 samples\n",
            "Epoch 1/12\n",
            "60000/60000 [==============================] - 190s 3ms/step - loss: 0.2361 - accuracy: 0.9284 - val_loss: 0.0690 - val_accuracy: 0.9789\n",
            "Epoch 2/12\n",
            "60000/60000 [==============================] - 191s 3ms/step - loss: 0.0961 - accuracy: 0.9713 - val_loss: 0.0511 - val_accuracy: 0.9835\n",
            "Epoch 3/12\n",
            "60000/60000 [==============================] - 190s 3ms/step - loss: 0.0741 - accuracy: 0.9777 - val_loss: 0.0435 - val_accuracy: 0.9863\n",
            "Epoch 4/12\n",
            "60000/60000 [==============================] - 190s 3ms/step - loss: 0.0609 - accuracy: 0.9813 - val_loss: 0.0374 - val_accuracy: 0.9866\n",
            "Epoch 5/12\n",
            "60000/60000 [==============================] - 190s 3ms/step - loss: 0.0540 - accuracy: 0.9834 - val_loss: 0.0378 - val_accuracy: 0.9864\n",
            "Epoch 6/12\n",
            "60000/60000 [==============================] - 190s 3ms/step - loss: 0.0465 - accuracy: 0.9855 - val_loss: 0.0352 - val_accuracy: 0.9875\n",
            "Epoch 7/12\n",
            "60000/60000 [==============================] - 190s 3ms/step - loss: 0.0422 - accuracy: 0.9866 - val_loss: 0.0338 - val_accuracy: 0.9885\n",
            "Epoch 8/12\n",
            "60000/60000 [==============================] - 191s 3ms/step - loss: 0.0371 - accuracy: 0.9881 - val_loss: 0.0340 - val_accuracy: 0.9882\n",
            "Epoch 9/12\n",
            "60000/60000 [==============================] - 191s 3ms/step - loss: 0.0362 - accuracy: 0.9884 - val_loss: 0.0339 - val_accuracy: 0.9890\n",
            "Epoch 10/12\n",
            "60000/60000 [==============================] - 191s 3ms/step - loss: 0.0345 - accuracy: 0.9891 - val_loss: 0.0325 - val_accuracy: 0.9883\n",
            "Epoch 11/12\n",
            "60000/60000 [==============================] - 190s 3ms/step - loss: 0.0316 - accuracy: 0.9899 - val_loss: 0.0331 - val_accuracy: 0.9884\n",
            "Epoch 12/12\n",
            "60000/60000 [==============================] - 189s 3ms/step - loss: 0.0290 - accuracy: 0.9907 - val_loss: 0.0362 - val_accuracy: 0.9890\n",
            "Test loss: 0.03624695595021767\n",
            "Test accuracy: 0.9890000224113464\n"
          ],
          "name": "stdout"
        }
      ]
    },
    {
      "cell_type": "code",
      "metadata": {
        "id": "nOy4wJ16rlef",
        "colab_type": "code",
        "outputId": "091add25-a4fb-4810-86dd-4ffc580669b0",
        "colab": {
          "base_uri": "https://localhost:8080/",
          "height": 187
        }
      },
      "source": [
        "test_predictions = model.predict_classes(x_test, batch_size=128, verbose=0) \n",
        "import numpy as np\n",
        "rounded_labels=np.argmax(y_test, axis=1)\n",
        "rounded_labels[1]\n",
        "cm = confusion_matrix(rounded_labels, test_predictions)\n",
        "print(cm)"
      ],
      "execution_count": 0,
      "outputs": [
        {
          "output_type": "stream",
          "text": [
            "[[ 976    0    1    0    0    0    1    1    1    0]\n",
            " [   0 1125    1    2    0    0    5    1    1    0]\n",
            " [   3    1 1018    0    1    0    1    4    4    0]\n",
            " [   0    0    1 1003    0    3    0    0    3    0]\n",
            " [   0    0    0    0  972    0    2    0    1    7]\n",
            " [   1    0    1    7    0  881    2    0    0    0]\n",
            " [   4    1    0    1    1    2  945    0    4    0]\n",
            " [   0    2    7    0    0    0    0 1015    1    3]\n",
            " [   2    0    1    1    0    0    0    1  968    1]\n",
            " [   3    1    0    3    5    4    0    1    5  987]]\n"
          ],
          "name": "stdout"
        }
      ]
    },
    {
      "cell_type": "code",
      "metadata": {
        "id": "udMa9h8RXEag",
        "colab_type": "code",
        "outputId": "c07565f3-cdfb-4b3b-d121-9fcf6e3eb93b",
        "colab": {
          "base_uri": "https://localhost:8080/",
          "height": 323
        }
      },
      "source": [
        "print(\"classification_report:\")\n",
        "print(classification_report(rounded_labels, test_predictions, target_names= None))"
      ],
      "execution_count": 0,
      "outputs": [
        {
          "output_type": "stream",
          "text": [
            "classification_report:\n",
            "              precision    recall  f1-score   support\n",
            "\n",
            "           0       0.99      1.00      0.99       980\n",
            "           1       0.99      1.00      0.99      1135\n",
            "           2       1.00      0.99      0.99      1032\n",
            "           3       0.99      1.00      0.99      1010\n",
            "           4       0.99      0.99      0.99       982\n",
            "           5       0.99      0.99      0.99       892\n",
            "           6       0.99      0.99      0.99       958\n",
            "           7       1.00      0.99      1.00      1028\n",
            "           8       0.99      0.99      0.99       974\n",
            "           9       1.00      0.99      0.99      1009\n",
            "\n",
            "    accuracy                           0.99     10000\n",
            "   macro avg       0.99      0.99      0.99     10000\n",
            "weighted avg       0.99      0.99      0.99     10000\n",
            "\n"
          ],
          "name": "stdout"
        }
      ]
    },
    {
      "cell_type": "markdown",
      "metadata": {
        "id": "D9Y_VLh_qyEL",
        "colab_type": "text"
      },
      "source": [
        "### **6. Using relu activation function with kernel_size (4,4) with 2 CNN layers**"
      ]
    },
    {
      "cell_type": "code",
      "metadata": {
        "id": "UxGf7-0ktGbF",
        "colab_type": "code",
        "outputId": "f201b3f2-dc12-451a-c85b-f96d23cc8c65",
        "colab": {
          "base_uri": "https://localhost:8080/",
          "height": 476
        }
      },
      "source": [
        "model = keras.models.Sequential()\n",
        "model = Sequential()\n",
        "model.add(Conv2D(32, kernel_size=(4, 4),\n",
        "                 activation='relu',\n",
        "                 input_shape=input_shape))\n",
        "model.add(Conv2D(64, (4, 4), activation='relu'))\n",
        "model.add(MaxPooling2D(pool_size=(2, 2)))\n",
        "model.add(Dropout(0.25))\n",
        "model.add(Flatten())\n",
        "model.add(Dense(128, activation='relu'))\n",
        "model.add(Dropout(0.5))\n",
        "model.add(Dense(num_classes, activation='softmax'))\n",
        "\n",
        "model.compile(loss=keras.losses.categorical_crossentropy,\n",
        "              optimizer=keras.optimizers.Adadelta(),\n",
        "              metrics=['accuracy'])\n",
        " \n",
        "model.fit(x_train, y_train,\n",
        "          batch_size=batch_size,\n",
        "          epochs=epochs,\n",
        "          verbose=1,\n",
        "          validation_data=(x_test, y_test))\n",
        "score = model.evaluate(x_test, y_test, verbose=0)\n",
        "print('Test loss:', score[0])\n",
        "print('Test accuracy:', score[1])\n"
      ],
      "execution_count": 0,
      "outputs": [
        {
          "output_type": "stream",
          "text": [
            "Train on 60000 samples, validate on 10000 samples\n",
            "Epoch 1/12\n",
            "60000/60000 [==============================] - 189s 3ms/step - loss: 0.2398 - accuracy: 0.9268 - val_loss: 0.0553 - val_accuracy: 0.9817\n",
            "Epoch 2/12\n",
            "60000/60000 [==============================] - 188s 3ms/step - loss: 0.0797 - accuracy: 0.9763 - val_loss: 0.0349 - val_accuracy: 0.9882\n",
            "Epoch 3/12\n",
            "60000/60000 [==============================] - 188s 3ms/step - loss: 0.0604 - accuracy: 0.9822 - val_loss: 0.0305 - val_accuracy: 0.9888\n",
            "Epoch 4/12\n",
            "60000/60000 [==============================] - 188s 3ms/step - loss: 0.0499 - accuracy: 0.9855 - val_loss: 0.0294 - val_accuracy: 0.9900\n",
            "Epoch 5/12\n",
            "60000/60000 [==============================] - 187s 3ms/step - loss: 0.0437 - accuracy: 0.9876 - val_loss: 0.0256 - val_accuracy: 0.9908\n",
            "Epoch 6/12\n",
            "60000/60000 [==============================] - 188s 3ms/step - loss: 0.0378 - accuracy: 0.9886 - val_loss: 0.0252 - val_accuracy: 0.9903\n",
            "Epoch 7/12\n",
            "60000/60000 [==============================] - 188s 3ms/step - loss: 0.0337 - accuracy: 0.9900 - val_loss: 0.0230 - val_accuracy: 0.9920\n",
            "Epoch 8/12\n",
            "60000/60000 [==============================] - 188s 3ms/step - loss: 0.0316 - accuracy: 0.9904 - val_loss: 0.0241 - val_accuracy: 0.9922\n",
            "Epoch 9/12\n",
            "60000/60000 [==============================] - 187s 3ms/step - loss: 0.0275 - accuracy: 0.9911 - val_loss: 0.0238 - val_accuracy: 0.9928\n",
            "Epoch 10/12\n",
            "60000/60000 [==============================] - 193s 3ms/step - loss: 0.0269 - accuracy: 0.9917 - val_loss: 0.0238 - val_accuracy: 0.9927\n",
            "Epoch 11/12\n",
            "60000/60000 [==============================] - 188s 3ms/step - loss: 0.0234 - accuracy: 0.9929 - val_loss: 0.0219 - val_accuracy: 0.9931\n",
            "Epoch 12/12\n",
            "60000/60000 [==============================] - 189s 3ms/step - loss: 0.0223 - accuracy: 0.9931 - val_loss: 0.0223 - val_accuracy: 0.9929\n",
            "Test loss: 0.02229649946132249\n",
            "Test accuracy: 0.992900013923645\n"
          ],
          "name": "stdout"
        }
      ]
    },
    {
      "cell_type": "code",
      "metadata": {
        "id": "SlSvHg1XrnRP",
        "colab_type": "code",
        "outputId": "27faa631-dd90-48aa-eaad-35b11fb51619",
        "colab": {
          "base_uri": "https://localhost:8080/",
          "height": 187
        }
      },
      "source": [
        "test_predictions = model.predict_classes(x_test, batch_size=128, verbose=0) \n",
        "import numpy as np\n",
        "rounded_labels=np.argmax(y_test, axis=1)\n",
        "rounded_labels[1]\n",
        "cm = confusion_matrix(rounded_labels, test_predictions)\n",
        "print(cm) "
      ],
      "execution_count": 0,
      "outputs": [
        {
          "output_type": "stream",
          "text": [
            "[[ 977    0    1    0    0    0    1    1    0    0]\n",
            " [   0 1134    0    0    0    0    1    0    0    0]\n",
            " [   1    2 1024    0    0    0    0    5    0    0]\n",
            " [   0    0    2 1005    0    2    0    0    1    0]\n",
            " [   0    0    0    0  978    0    2    0    0    2]\n",
            " [   2    0    0    5    0  884    1    0    0    0]\n",
            " [   4    2    0    0    1    4  947    0    0    0]\n",
            " [   0    1    3    2    0    0    0 1020    1    1]\n",
            " [   4    0    2    2    0    1    0    0  964    1]\n",
            " [   0    0    0    1    4    3    0    1    1  999]]\n"
          ],
          "name": "stdout"
        }
      ]
    },
    {
      "cell_type": "code",
      "metadata": {
        "id": "1_FMMfkCXd_R",
        "colab_type": "code",
        "outputId": "c9f30544-9e5c-4d30-b961-ab1a75187991",
        "colab": {
          "base_uri": "https://localhost:8080/",
          "height": 323
        }
      },
      "source": [
        "print(\"classification_report:\")\n",
        "print(classification_report(rounded_labels, test_predictions, target_names= None))"
      ],
      "execution_count": 0,
      "outputs": [
        {
          "output_type": "stream",
          "text": [
            "classification_report:\n",
            "              precision    recall  f1-score   support\n",
            "\n",
            "           0       0.99      1.00      0.99       980\n",
            "           1       0.99      1.00      0.99      1135\n",
            "           2       1.00      0.99      0.99      1032\n",
            "           3       0.99      1.00      0.99      1010\n",
            "           4       0.99      0.99      0.99       982\n",
            "           5       0.99      0.99      0.99       892\n",
            "           6       0.99      0.99      0.99       958\n",
            "           7       1.00      0.99      1.00      1028\n",
            "           8       0.99      0.99      0.99       974\n",
            "           9       1.00      0.99      0.99      1009\n",
            "\n",
            "    accuracy                           0.99     10000\n",
            "   macro avg       0.99      0.99      0.99     10000\n",
            "weighted avg       0.99      0.99      0.99     10000\n",
            "\n"
          ],
          "name": "stdout"
        }
      ]
    },
    {
      "cell_type": "markdown",
      "metadata": {
        "id": "SHtF5B0ZAqXB",
        "colab_type": "text"
      },
      "source": [
        "### **7. Using relu activation function with kernel_size(5,5)**"
      ]
    },
    {
      "cell_type": "code",
      "metadata": {
        "id": "OBP9y1XIxLDb",
        "colab_type": "code",
        "outputId": "36777598-52c5-445b-ac8e-34c363667c24",
        "colab": {
          "base_uri": "https://localhost:8080/",
          "height": 476
        }
      },
      "source": [
        "model = keras.models.Sequential()\n",
        "model = Sequential()\n",
        "model.add(Conv2D(32, kernel_size=(5, 5),\n",
        "                 activation='relu',\n",
        "                 input_shape=input_shape))\n",
        "model.add(Conv2D(64, (5, 5), activation='relu'))\n",
        "model.add(MaxPooling2D(pool_size=(2, 2)))\n",
        "model.add(Dropout(0.25))\n",
        "model.add(Flatten())\n",
        "model.add(Dense(128, activation='relu'))\n",
        "model.add(Dropout(0.5))\n",
        "model.add(Dense(num_classes, activation='softmax'))\n",
        "\n",
        "model.compile(loss=keras.losses.categorical_crossentropy,\n",
        "              optimizer=keras.optimizers.Adadelta(),\n",
        "              metrics=['accuracy'])\n",
        " \n",
        "model.fit(x_train, y_train,\n",
        "          batch_size=batch_size,\n",
        "          epochs=epochs,\n",
        "          verbose=1,\n",
        "          validation_data=(x_test, y_test))\n",
        "score = model.evaluate(x_test, y_test, verbose=0)\n",
        "print('Test loss:', score[0])\n",
        "  print('Test accuracy:', score[1])"
      ],
      "execution_count": 0,
      "outputs": [
        {
          "output_type": "stream",
          "text": [
            "Train on 60000 samples, validate on 10000 samples\n",
            "Epoch 1/12\n",
            "60000/60000 [==============================] - 226s 4ms/step - loss: 0.1817 - accuracy: 0.9446 - val_loss: 0.0533 - val_accuracy: 0.9830\n",
            "Epoch 2/12\n",
            "60000/60000 [==============================] - 226s 4ms/step - loss: 0.0613 - accuracy: 0.9813 - val_loss: 0.0343 - val_accuracy: 0.9887\n",
            "Epoch 3/12\n",
            "60000/60000 [==============================] - 226s 4ms/step - loss: 0.0473 - accuracy: 0.9864 - val_loss: 0.0311 - val_accuracy: 0.9883\n",
            "Epoch 4/12\n",
            "60000/60000 [==============================] - 227s 4ms/step - loss: 0.0378 - accuracy: 0.9884 - val_loss: 0.0298 - val_accuracy: 0.9906\n",
            "Epoch 5/12\n",
            "60000/60000 [==============================] - 227s 4ms/step - loss: 0.0329 - accuracy: 0.9896 - val_loss: 0.0235 - val_accuracy: 0.9923\n",
            "Epoch 6/12\n",
            "60000/60000 [==============================] - 227s 4ms/step - loss: 0.0280 - accuracy: 0.9914 - val_loss: 0.0232 - val_accuracy: 0.9913\n",
            "Epoch 7/12\n",
            "60000/60000 [==============================] - 227s 4ms/step - loss: 0.0250 - accuracy: 0.9922 - val_loss: 0.0236 - val_accuracy: 0.9919\n",
            "Epoch 8/12\n",
            "60000/60000 [==============================] - 226s 4ms/step - loss: 0.0227 - accuracy: 0.9932 - val_loss: 0.0219 - val_accuracy: 0.9920\n",
            "Epoch 9/12\n",
            "60000/60000 [==============================] - 227s 4ms/step - loss: 0.0206 - accuracy: 0.9937 - val_loss: 0.0249 - val_accuracy: 0.9926\n",
            "Epoch 10/12\n",
            "60000/60000 [==============================] - 227s 4ms/step - loss: 0.0197 - accuracy: 0.9941 - val_loss: 0.0202 - val_accuracy: 0.9940\n",
            "Epoch 11/12\n",
            "60000/60000 [==============================] - 227s 4ms/step - loss: 0.0173 - accuracy: 0.9949 - val_loss: 0.0232 - val_accuracy: 0.9928\n",
            "Epoch 12/12\n",
            "60000/60000 [==============================] - 231s 4ms/step - loss: 0.0153 - accuracy: 0.9955 - val_loss: 0.0226 - val_accuracy: 0.9929\n",
            "Test loss: 0.022569451226017553\n",
            "Test accuracy: 0.992900013923645\n"
          ],
          "name": "stdout"
        }
      ]
    },
    {
      "cell_type": "code",
      "metadata": {
        "id": "hDLJold5BFUK",
        "colab_type": "code",
        "outputId": "4a2839cd-d6de-40c2-f4d4-66857770a019",
        "colab": {
          "base_uri": "https://localhost:8080/",
          "height": 187
        }
      },
      "source": [
        "test_predictions = model.predict_classes(x_test, batch_size=128, verbose=0) \n",
        "import numpy as np\n",
        "rounded_labels=np.argmax(y_test, axis=1)\n",
        "rounded_labels[1]\n",
        "cm = confusion_matrix(rounded_labels, test_predictions)\n",
        "print(cm)"
      ],
      "execution_count": 0,
      "outputs": [
        {
          "output_type": "stream",
          "text": [
            "[[ 977    0    1    0    0    0    0    1    1    0]\n",
            " [   1 1128    2    1    0    0    1    0    2    0]\n",
            " [   1    0 1028    0    2    0    0    1    0    0]\n",
            " [   0    0    1 1003    0    2    0    0    4    0]\n",
            " [   0    0    0    0  976    0    0    0    2    4]\n",
            " [   1    0    0    6    0  883    1    0    1    0]\n",
            " [   4    2    0    1    2    1  944    0    4    0]\n",
            " [   0    2    2    1    0    0    0 1021    1    1]\n",
            " [   0    0    1    0    0    0    0    0  972    1]\n",
            " [   0    0    0    1    3    1    0    1    6  997]]\n"
          ],
          "name": "stdout"
        }
      ]
    },
    {
      "cell_type": "code",
      "metadata": {
        "id": "5g6KQ4WwXwQt",
        "colab_type": "code",
        "outputId": "23f98aa8-44ee-4344-9f66-f2372fc9d8df",
        "colab": {
          "base_uri": "https://localhost:8080/",
          "height": 323
        }
      },
      "source": [
        "print(\"classification_report:\")\n",
        "print(classification_report(rounded_labels, test_predictions, target_names= None))"
      ],
      "execution_count": 0,
      "outputs": [
        {
          "output_type": "stream",
          "text": [
            "classification_report:\n",
            "              precision    recall  f1-score   support\n",
            "\n",
            "           0       0.99      1.00      0.99       980\n",
            "           1       0.99      1.00      0.99      1135\n",
            "           2       1.00      0.99      0.99      1032\n",
            "           3       0.99      1.00      0.99      1010\n",
            "           4       0.99      0.99      0.99       982\n",
            "           5       0.99      0.99      0.99       892\n",
            "           6       0.99      0.99      0.99       958\n",
            "           7       1.00      0.99      1.00      1028\n",
            "           8       0.99      0.99      0.99       974\n",
            "           9       1.00      0.99      0.99      1009\n",
            "\n",
            "    accuracy                           0.99     10000\n",
            "   macro avg       0.99      0.99      0.99     10000\n",
            "weighted avg       0.99      0.99      0.99     10000\n",
            "\n"
          ],
          "name": "stdout"
        }
      ]
    },
    {
      "cell_type": "markdown",
      "metadata": {
        "id": "I7pI0AzNBXWP",
        "colab_type": "text"
      },
      "source": [
        "### **8. Using tanh activation function with kernel_size(5,5)**"
      ]
    },
    {
      "cell_type": "code",
      "metadata": {
        "id": "ROnOM_gwBTes",
        "colab_type": "code",
        "outputId": "d4974db3-bc75-47e7-8471-fa6ffe88d5b8",
        "colab": {
          "base_uri": "https://localhost:8080/",
          "height": 476
        }
      },
      "source": [
        "model = keras.models.Sequential()\n",
        "model = Sequential()\n",
        "model.add(Conv2D(32, kernel_size=(5, 5),\n",
        "                 activation='tanh',\n",
        "                 input_shape=input_shape))\n",
        "model.add(Conv2D(64, (5, 5), activation='tanh'))\n",
        "model.add(MaxPooling2D(pool_size=(2, 2)))\n",
        "model.add(Dropout(0.25))\n",
        "model.add(Flatten())\n",
        "model.add(Dense(128, activation='tanh'))\n",
        "model.add(Dropout(0.5))\n",
        "model.add(Dense(num_classes, activation='softmax'))\n",
        "\n",
        "model.compile(loss=keras.losses.categorical_crossentropy,\n",
        "              optimizer=keras.optimizers.Adadelta(),\n",
        "              metrics=['accuracy'])\n",
        " \n",
        "model.fit(x_train, y_train,\n",
        "          batch_size=batch_size,\n",
        "          epochs=epochs,\n",
        "          verbose=1,\n",
        "          validation_data=(x_test, y_test))\n",
        "score = model.evaluate(x_test, y_test, verbose=0)\n",
        "print('Test loss:', score[0])\n",
        "print('Test accuracy:', score[1])"
      ],
      "execution_count": 0,
      "outputs": [
        {
          "output_type": "stream",
          "text": [
            "Train on 60000 samples, validate on 10000 samples\n",
            "Epoch 1/12\n",
            "60000/60000 [==============================] - 229s 4ms/step - loss: 0.2418 - accuracy: 0.9262 - val_loss: 0.0737 - val_accuracy: 0.9769\n",
            "Epoch 2/12\n",
            "60000/60000 [==============================] - 234s 4ms/step - loss: 0.1038 - accuracy: 0.9690 - val_loss: 0.0455 - val_accuracy: 0.9843\n",
            "Epoch 3/12\n",
            "60000/60000 [==============================] - 230s 4ms/step - loss: 0.0781 - accuracy: 0.9765 - val_loss: 0.0408 - val_accuracy: 0.9854\n",
            "Epoch 4/12\n",
            "60000/60000 [==============================] - 230s 4ms/step - loss: 0.0615 - accuracy: 0.9814 - val_loss: 0.0375 - val_accuracy: 0.9871\n",
            "Epoch 5/12\n",
            "60000/60000 [==============================] - 237s 4ms/step - loss: 0.0555 - accuracy: 0.9830 - val_loss: 0.0335 - val_accuracy: 0.9882\n",
            "Epoch 6/12\n",
            "60000/60000 [==============================] - 231s 4ms/step - loss: 0.0499 - accuracy: 0.9847 - val_loss: 0.0344 - val_accuracy: 0.9877\n",
            "Epoch 7/12\n",
            "60000/60000 [==============================] - 231s 4ms/step - loss: 0.0440 - accuracy: 0.9864 - val_loss: 0.0311 - val_accuracy: 0.9889\n",
            "Epoch 8/12\n",
            "60000/60000 [==============================] - 230s 4ms/step - loss: 0.0413 - accuracy: 0.9872 - val_loss: 0.0305 - val_accuracy: 0.9901\n",
            "Epoch 9/12\n",
            "60000/60000 [==============================] - 230s 4ms/step - loss: 0.0355 - accuracy: 0.9888 - val_loss: 0.0270 - val_accuracy: 0.9914\n",
            "Epoch 10/12\n",
            "60000/60000 [==============================] - 230s 4ms/step - loss: 0.0328 - accuracy: 0.9899 - val_loss: 0.0303 - val_accuracy: 0.9896\n",
            "Epoch 11/12\n",
            "60000/60000 [==============================] - 230s 4ms/step - loss: 0.0322 - accuracy: 0.9897 - val_loss: 0.0275 - val_accuracy: 0.9899\n",
            "Epoch 12/12\n",
            "60000/60000 [==============================] - 230s 4ms/step - loss: 0.0281 - accuracy: 0.9910 - val_loss: 0.0273 - val_accuracy: 0.9903\n",
            "Test loss: 0.027262121563684197\n",
            "Test accuracy: 0.9902999997138977\n"
          ],
          "name": "stdout"
        }
      ]
    },
    {
      "cell_type": "code",
      "metadata": {
        "id": "Zo8wA2dl1x0J",
        "colab_type": "code",
        "outputId": "49e3d41f-7cc4-4aea-c071-d9dbc23d9ae7",
        "colab": {
          "base_uri": "https://localhost:8080/",
          "height": 187
        }
      },
      "source": [
        "  test_predictions = model.predict_classes(x_test, batch_size=128, verbose=0) \n",
        "import numpy as np\n",
        "rounded_labels=np.argmax(y_test, axis=1)\n",
        "rounded_labels[1]\n",
        "cm = confusion_matrix(rounded_labels, test_predictions)\n",
        "print(cm)"
      ],
      "execution_count": 0,
      "outputs": [
        {
          "output_type": "stream",
          "text": [
            "[[ 974    0    3    0    0    0    1    1    1    0]\n",
            " [   0 1131    0    0    0    0    2    1    1    0]\n",
            " [   0    1 1026    0    1    0    0    3    1    0]\n",
            " [   0    0    1 1005    0    2    0    0    2    0]\n",
            " [   0    0    0    0  978    0    3    0    0    1]\n",
            " [   0    0    0    6    0  884    2    0    0    0]\n",
            " [   4    1    0    0    1    1  951    0    0    0]\n",
            " [   0    2    4    3    0    0    0 1018    1    0]\n",
            " [   4    0    2    1    1    1    1    1  962    1]\n",
            " [   0    2    2    1   10    7    0    8    5  974]]\n"
          ],
          "name": "stdout"
        }
      ]
    },
    {
      "cell_type": "code",
      "metadata": {
        "id": "0ezyXl8UX6z0",
        "colab_type": "code",
        "outputId": "532a9426-829d-4ace-cbc6-42c74d2171e7",
        "colab": {
          "base_uri": "https://localhost:8080/",
          "height": 323
        }
      },
      "source": [
        "print(\"classification_report:\")\n",
        "print(classification_report(rounded_labels, test_predictions, target_names= None))"
      ],
      "execution_count": 0,
      "outputs": [
        {
          "output_type": "stream",
          "text": [
            "classification_report:\n",
            "              precision    recall  f1-score   support\n",
            "\n",
            "           0       0.99      1.00      0.99       980\n",
            "           1       0.99      1.00      0.99      1135\n",
            "           2       1.00      0.99      0.99      1032\n",
            "           3       0.99      1.00      0.99      1010\n",
            "           4       0.99      0.99      0.99       982\n",
            "           5       0.99      0.99      0.99       892\n",
            "           6       0.99      0.99      0.99       958\n",
            "           7       1.00      0.99      1.00      1028\n",
            "           8       0.99      0.99      0.99       974\n",
            "           9       1.00      0.99      0.99      1009\n",
            "\n",
            "    accuracy                           0.99     10000\n",
            "   macro avg       0.99      0.99      0.99     10000\n",
            "weighted avg       0.99      0.99      0.99     10000\n",
            "\n"
          ],
          "name": "stdout"
        }
      ]
    },
    {
      "cell_type": "markdown",
      "metadata": {
        "id": "S0FIR6zWPKzV",
        "colab_type": "text"
      },
      "source": [
        "### **9. Using 3 CNN layers with activation function tanh and Kernel_size(3,3)**"
      ]
    },
    {
      "cell_type": "code",
      "metadata": {
        "id": "EmlWvGJ_4i1a",
        "colab_type": "code",
        "outputId": "b697f710-5e96-4fda-9b00-f92baa525145",
        "colab": {
          "base_uri": "https://localhost:8080/",
          "height": 476
        }
      },
      "source": [
        "model = keras.models.Sequential()\n",
        "model = Sequential()\n",
        "model.add(Conv2D(32, kernel_size=(3, 3),\n",
        "                 activation='tanh',\n",
        "                 input_shape=input_shape))\n",
        "model.add(Conv2D(64, (3, 3), activation='tanh'))\n",
        "model.add(Conv2D(64, (3, 3), activation='tanh'))\n",
        "model.add(MaxPooling2D(pool_size=(2, 2)))\n",
        "model.add(Dropout(0.25))\n",
        "model.add(Flatten())\n",
        "model.add(Dense(128, activation='tanh'))\n",
        "model.add(Dropout(0.5))\n",
        "model.add(Dense(num_classes, activation='softmax'))\n",
        "\n",
        "model.compile(loss=keras.losses.categorical_crossentropy,\n",
        "              optimizer=keras.optimizers.Adadelta(),\n",
        "              metrics=['accuracy'])\n",
        " \n",
        "model.fit(x_train, y_train,\n",
        "          batch_size=batch_size,\n",
        "          epochs=epochs,\n",
        "          verbose=1,\n",
        "          validation_data=(x_test, y_test))\n",
        "score = model.evaluate(x_test, y_test, verbose=0)\n",
        "print('Test loss:', score[0])\n",
        "print('Test accuracy:', score[1])"
      ],
      "execution_count": 0,
      "outputs": [
        {
          "output_type": "stream",
          "text": [
            "Train on 60000 samples, validate on 10000 samples\n",
            "Epoch 1/12\n",
            "60000/60000 [==============================] - 284s 5ms/step - loss: 0.2241 - accuracy: 0.9305 - val_loss: 0.0685 - val_accuracy: 0.9793\n",
            "Epoch 2/12\n",
            "60000/60000 [==============================] - 280s 5ms/step - loss: 0.0988 - accuracy: 0.9702 - val_loss: 0.0496 - val_accuracy: 0.9839\n",
            "Epoch 3/12\n",
            "60000/60000 [==============================] - 285s 5ms/step - loss: 0.0719 - accuracy: 0.9788 - val_loss: 0.0430 - val_accuracy: 0.9859\n",
            "Epoch 4/12\n",
            "60000/60000 [==============================] - 288s 5ms/step - loss: 0.0603 - accuracy: 0.9818 - val_loss: 0.0452 - val_accuracy: 0.9847\n",
            "Epoch 5/12\n",
            "60000/60000 [==============================] - 284s 5ms/step - loss: 0.0535 - accuracy: 0.9833 - val_loss: 0.0406 - val_accuracy: 0.9863\n",
            "Epoch 6/12\n",
            "60000/60000 [==============================] - 289s 5ms/step - loss: 0.0450 - accuracy: 0.9858 - val_loss: 0.0353 - val_accuracy: 0.9885\n",
            "Epoch 7/12\n",
            "60000/60000 [==============================] - 286s 5ms/step - loss: 0.0417 - accuracy: 0.9872 - val_loss: 0.0362 - val_accuracy: 0.9881\n",
            "Epoch 8/12\n",
            "60000/60000 [==============================] - 289s 5ms/step - loss: 0.0375 - accuracy: 0.9886 - val_loss: 0.0351 - val_accuracy: 0.9890\n",
            "Epoch 9/12\n",
            "60000/60000 [==============================] - 283s 5ms/step - loss: 0.0337 - accuracy: 0.9893 - val_loss: 0.0321 - val_accuracy: 0.9905\n",
            "Epoch 10/12\n",
            "60000/60000 [==============================] - 288s 5ms/step - loss: 0.0322 - accuracy: 0.9897 - val_loss: 0.0338 - val_accuracy: 0.9896\n",
            "Epoch 11/12\n",
            "60000/60000 [==============================] - 287s 5ms/step - loss: 0.0289 - accuracy: 0.9906 - val_loss: 0.0357 - val_accuracy: 0.9893\n",
            "Epoch 12/12\n",
            "60000/60000 [==============================] - 286s 5ms/step - loss: 0.0261 - accuracy: 0.9920 - val_loss: 0.0366 - val_accuracy: 0.9888\n",
            "Test loss: 0.03660299317239842\n",
            "Test accuracy: 0.9887999892234802\n"
          ],
          "name": "stdout"
        }
      ]
    },
    {
      "cell_type": "code",
      "metadata": {
        "id": "2oB-L-LKSlvh",
        "colab_type": "code",
        "outputId": "9c3b588f-5023-4f2c-c703-9e556b6bb531",
        "colab": {
          "base_uri": "https://localhost:8080/",
          "height": 187
        }
      },
      "source": [
        "test_predictions = model.predict_classes(x_test, batch_size=128, verbose=0) \n",
        "import numpy as np\n",
        "rounded_labels=np.argmax(y_test, axis=1)\n",
        "rounded_labels[1]\n",
        "cm = confusion_matrix(rounded_labels, test_predictions)\n",
        "print(cm)"
      ],
      "execution_count": 0,
      "outputs": [
        {
          "output_type": "stream",
          "text": [
            "[[ 977    0    1    0    0    0    1    1    0    0]\n",
            " [   0 1134    0    0    0    0    1    0    0    0]\n",
            " [   1    2 1024    0    0    0    0    5    0    0]\n",
            " [   0    0    2 1005    0    2    0    0    1    0]\n",
            " [   0    0    0    0  978    0    2    0    0    2]\n",
            " [   2    0    0    5    0  884    1    0    0    0]\n",
            " [   4    2    0    0    1    4  947    0    0    0]\n",
            " [   0    1    3    2    0    0    0 1020    1    1]\n",
            " [   4    0    2    2    0    1    0    0  964    1]\n",
            " [   0    0    0    1    4    3    0    1    1  999]]\n"
          ],
          "name": "stdout"
        }
      ]
    },
    {
      "cell_type": "code",
      "metadata": {
        "id": "15x7436SX_nT",
        "colab_type": "code",
        "outputId": "662de973-423a-4eec-b950-98f3f3b3e854",
        "colab": {
          "base_uri": "https://localhost:8080/",
          "height": 323
        }
      },
      "source": [
        "print(\"classification_report:\")\n",
        "print(classification_report(rounded_labels, test_predictions, target_names= None))"
      ],
      "execution_count": 0,
      "outputs": [
        {
          "output_type": "stream",
          "text": [
            "classification_report:\n",
            "              precision    recall  f1-score   support\n",
            "\n",
            "           0       0.99      1.00      0.99       980\n",
            "           1       0.99      1.00      0.99      1135\n",
            "           2       1.00      0.99      0.99      1032\n",
            "           3       0.99      1.00      0.99      1010\n",
            "           4       0.99      0.99      0.99       982\n",
            "           5       0.99      0.99      0.99       892\n",
            "           6       0.99      0.99      0.99       958\n",
            "           7       1.00      0.99      1.00      1028\n",
            "           8       0.99      0.99      0.99       974\n",
            "           9       1.00      0.99      0.99      1009\n",
            "\n",
            "    accuracy                           0.99     10000\n",
            "   macro avg       0.99      0.99      0.99     10000\n",
            "weighted avg       0.99      0.99      0.99     10000\n",
            "\n"
          ],
          "name": "stdout"
        }
      ]
    },
    {
      "cell_type": "markdown",
      "metadata": {
        "id": "XTU8LlmPSZ3A",
        "colab_type": "text"
      },
      "source": [
        "### **10. Using 3 CNN layers with activation function relu and Kernel_size(3,3)**"
      ]
    },
    {
      "cell_type": "code",
      "metadata": {
        "id": "8Fvy1dCMPhl6",
        "colab_type": "code",
        "outputId": "e86fbb5b-3951-4624-feb4-8d4d3f836b1a",
        "colab": {
          "base_uri": "https://localhost:8080/",
          "height": 476
        }
      },
      "source": [
        "model = keras.models.Sequential()\n",
        "model = Sequential()\n",
        "model.add(Conv2D(32, kernel_size=(3, 3),activation='relu', input_shape=input_shape))\n",
        "model.add(Conv2D(64, (3, 3), activation='relu'))\n",
        "model.add(Conv2D(64, (3, 3), activation='relu'))\n",
        "model.add(MaxPooling2D(pool_size=(2, 2)))\n",
        "model.add(Dropout(0.25))\n",
        "model.add(Flatten())\n",
        "model.add(Dense(128, activation='relu'))\n",
        "model.add(Dropout(0.5))\n",
        "model.add(Dense(num_classes, activation='softmax'))\n",
        "\n",
        "model.compile(loss=keras.losses.categorical_crossentropy,\n",
        "              optimizer=keras.optimizers.Adadelta(),\n",
        "              metrics=['accuracy'])\n",
        " \n",
        "model.fit(x_train, y_train,\n",
        "          batch_size=batch_size,\n",
        "          epochs=epochs,\n",
        "          verbose=1,\n",
        "          validation_data=(x_test, y_test))\n",
        "score = model.evaluate(x_test, y_test, verbose=0)\n",
        "print('Test loss:', score[0])\n",
        "print('Test accuracy:', score[1])\n"
      ],
      "execution_count": 0,
      "outputs": [
        {
          "output_type": "stream",
          "text": [
            "Train on 60000 samples, validate on 10000 samples\n",
            "Epoch 1/12\n",
            "60000/60000 [==============================] - 300s 5ms/step - loss: 0.2430 - accuracy: 0.9249 - val_loss: 0.0492 - val_accuracy: 0.9843\n",
            "Epoch 2/12\n",
            "60000/60000 [==============================] - 301s 5ms/step - loss: 0.0799 - accuracy: 0.9767 - val_loss: 0.0395 - val_accuracy: 0.9870\n",
            "Epoch 3/12\n",
            "60000/60000 [==============================] - 300s 5ms/step - loss: 0.0593 - accuracy: 0.9823 - val_loss: 0.0281 - val_accuracy: 0.9903\n",
            "Epoch 4/12\n",
            "60000/60000 [==============================] - 300s 5ms/step - loss: 0.0499 - accuracy: 0.9855 - val_loss: 0.0293 - val_accuracy: 0.9904\n",
            "Epoch 5/12\n",
            "60000/60000 [==============================] - 301s 5ms/step - loss: 0.0423 - accuracy: 0.9873 - val_loss: 0.0252 - val_accuracy: 0.9912\n",
            "Epoch 6/12\n",
            "60000/60000 [==============================] - 301s 5ms/step - loss: 0.0395 - accuracy: 0.9881 - val_loss: 0.0246 - val_accuracy: 0.9918\n",
            "Epoch 7/12\n",
            "60000/60000 [==============================] - 301s 5ms/step - loss: 0.0329 - accuracy: 0.9901 - val_loss: 0.0228 - val_accuracy: 0.9926\n",
            "Epoch 8/12\n",
            "60000/60000 [==============================] - 301s 5ms/step - loss: 0.0309 - accuracy: 0.9907 - val_loss: 0.0233 - val_accuracy: 0.9930\n",
            "Epoch 9/12\n",
            "60000/60000 [==============================] - 301s 5ms/step - loss: 0.0273 - accuracy: 0.9916 - val_loss: 0.0212 - val_accuracy: 0.9928\n",
            "Epoch 10/12\n",
            "60000/60000 [==============================] - 301s 5ms/step - loss: 0.0247 - accuracy: 0.9926 - val_loss: 0.0222 - val_accuracy: 0.9925\n",
            "Epoch 11/12\n",
            "60000/60000 [==============================] - 305s 5ms/step - loss: 0.0231 - accuracy: 0.9930 - val_loss: 0.0247 - val_accuracy: 0.9920\n",
            "Epoch 12/12\n",
            "60000/60000 [==============================] - 300s 5ms/step - loss: 0.0225 - accuracy: 0.9932 - val_loss: 0.0217 - val_accuracy: 0.9932\n",
            "Test loss: 0.021745362473150818\n",
            "Test accuracy: 0.9932000041007996\n"
          ],
          "name": "stdout"
        }
      ]
    },
    {
      "cell_type": "code",
      "metadata": {
        "id": "SzJv8TlhSvlI",
        "colab_type": "code",
        "outputId": "7f503ae9-aa14-4845-df57-35daaadcf379",
        "colab": {
          "base_uri": "https://localhost:8080/",
          "height": 187
        }
      },
      "source": [
        "test_predictions = model.predict_classes(x_test, batch_size=128, verbose=0) \n",
        "import numpy as np\n",
        "rounded_labels=np.argmax(y_test, axis=1)\n",
        "rounded_labels[1]\n",
        "cm = confusion_matrix(rounded_labels, test_predictions)\n",
        "print(cm)"
      ],
      "execution_count": 0,
      "outputs": [
        {
          "output_type": "stream",
          "text": [
            "[[ 977    0    1    0    0    0    1    1    0    0]\n",
            " [   0 1134    0    0    0    0    1    0    0    0]\n",
            " [   1    2 1024    0    0    0    0    5    0    0]\n",
            " [   0    0    2 1005    0    2    0    0    1    0]\n",
            " [   0    0    0    0  978    0    2    0    0    2]\n",
            " [   2    0    0    5    0  884    1    0    0    0]\n",
            " [   4    2    0    0    1    4  947    0    0    0]\n",
            " [   0    1    3    2    0    0    0 1020    1    1]\n",
            " [   4    0    2    2    0    1    0    0  964    1]\n",
            " [   0    0    0    1    4    3    0    1    1  999]]\n"
          ],
          "name": "stdout"
        }
      ]
    },
    {
      "cell_type": "code",
      "metadata": {
        "id": "PP0xSjxDYEW9",
        "colab_type": "code",
        "outputId": "7e56b399-7cf4-4769-b90d-dc07ad8e0a5f",
        "colab": {
          "base_uri": "https://localhost:8080/",
          "height": 323
        }
      },
      "source": [
        "print(\"classification_report:\")\n",
        "print(classification_report(rounded_labels, test_predictions, target_names= None))"
      ],
      "execution_count": 0,
      "outputs": [
        {
          "output_type": "stream",
          "text": [
            "classification_report:\n",
            "              precision    recall  f1-score   support\n",
            "\n",
            "           0       0.99      1.00      0.99       980\n",
            "           1       0.99      1.00      0.99      1135\n",
            "           2       1.00      0.99      0.99      1032\n",
            "           3       0.99      1.00      0.99      1010\n",
            "           4       0.99      0.99      0.99       982\n",
            "           5       0.99      0.99      0.99       892\n",
            "           6       0.99      0.99      0.99       958\n",
            "           7       1.00      0.99      1.00      1028\n",
            "           8       0.99      0.99      0.99       974\n",
            "           9       1.00      0.99      0.99      1009\n",
            "\n",
            "    accuracy                           0.99     10000\n",
            "   macro avg       0.99      0.99      0.99     10000\n",
            "weighted avg       0.99      0.99      0.99     10000\n",
            "\n"
          ],
          "name": "stdout"
        }
      ]
    },
    {
      "cell_type": "markdown",
      "metadata": {
        "id": "DXTkfCqY6vsz",
        "colab_type": "text"
      },
      "source": [
        "### **11. With single layer of dropout with 3 CNN layers and kernel_size(3,3)**"
      ]
    },
    {
      "cell_type": "code",
      "metadata": {
        "id": "ki2jyXam6mz9",
        "colab_type": "code",
        "outputId": "8f60485c-f09f-4908-a769-19a6e7fdef55",
        "colab": {
          "base_uri": "https://localhost:8080/",
          "height": 476
        }
      },
      "source": [
        "model = keras.models.Sequential()\n",
        "model = Sequential()\n",
        "model.add(Conv2D(32, kernel_size=(3, 3),activation='tanh',input_shape=input_shape))\n",
        "model.add(Conv2D(64, (3, 3), activation='tanh'))\n",
        "model.add(Conv2D(64, (3, 3), activation='tanh'))\n",
        "model.add(MaxPooling2D(pool_size=(2, 2)))\n",
        "model.add(Flatten())\n",
        "model.add(Dense(128, activation='tanh'))\n",
        "model.add(Dropout(0.5))\n",
        "model.add(Dense(num_classes, activation='softmax'))\n",
        "model.compile(loss=keras.losses.categorical_crossentropy,\n",
        "              optimizer=keras.optimizers.Adadelta(),\n",
        "              metrics=['accuracy'])\n",
        "model.fit(x_train, y_train,\n",
        "          batch_size=batch_size,\n",
        "          epochs=epochs,\n",
        "          verbose=1,\n",
        "          validation_data=(x_test, y_test))\n",
        "score = model.evaluate(x_test, y_test, verbose=0)\n",
        "print('Test loss:', score[0])\n",
        "print('Test accuracy:', score[1])"
      ],
      "execution_count": 0,
      "outputs": [
        {
          "output_type": "stream",
          "text": [
            "Train on 60000 samples, validate on 10000 samples\n",
            "Epoch 1/12\n",
            "60000/60000 [==============================] - 303s 5ms/step - loss: 0.2190 - accuracy: 0.9324 - val_loss: 0.0614 - val_accuracy: 0.9797\n",
            "Epoch 2/12\n",
            "60000/60000 [==============================] - 309s 5ms/step - loss: 0.0888 - accuracy: 0.9733 - val_loss: 0.0569 - val_accuracy: 0.9815\n",
            "Epoch 3/12\n",
            "60000/60000 [==============================] - 302s 5ms/step - loss: 0.0677 - accuracy: 0.9794 - val_loss: 0.0406 - val_accuracy: 0.9874\n",
            "Epoch 4/12\n",
            "60000/60000 [==============================] - 300s 5ms/step - loss: 0.0549 - accuracy: 0.9834 - val_loss: 0.0408 - val_accuracy: 0.9873\n",
            "Epoch 5/12\n",
            "60000/60000 [==============================] - 300s 5ms/step - loss: 0.0470 - accuracy: 0.9857 - val_loss: 0.0361 - val_accuracy: 0.9878\n",
            "Epoch 6/12\n",
            "60000/60000 [==============================] - 300s 5ms/step - loss: 0.0416 - accuracy: 0.9867 - val_loss: 0.0358 - val_accuracy: 0.9872\n",
            "Epoch 7/12\n",
            "60000/60000 [==============================] - 300s 5ms/step - loss: 0.0363 - accuracy: 0.9889 - val_loss: 0.0350 - val_accuracy: 0.9897\n",
            "Epoch 8/12\n",
            "60000/60000 [==============================] - 300s 5ms/step - loss: 0.0304 - accuracy: 0.9906 - val_loss: 0.0343 - val_accuracy: 0.9886\n",
            "Epoch 9/12\n",
            "60000/60000 [==============================] - 301s 5ms/step - loss: 0.0261 - accuracy: 0.9918 - val_loss: 0.0313 - val_accuracy: 0.9903\n",
            "Epoch 10/12\n",
            "60000/60000 [==============================] - 306s 5ms/step - loss: 0.0238 - accuracy: 0.9926 - val_loss: 0.0312 - val_accuracy: 0.9901\n",
            "Epoch 11/12\n",
            "60000/60000 [==============================] - 301s 5ms/step - loss: 0.0195 - accuracy: 0.9935 - val_loss: 0.0321 - val_accuracy: 0.9893\n",
            "Epoch 12/12\n",
            "60000/60000 [==============================] - 307s 5ms/step - loss: 0.0195 - accuracy: 0.9939 - val_loss: 0.0309 - val_accuracy: 0.9902\n",
            "Test loss: 0.030909157695950127\n",
            "Test accuracy: 0.9901999831199646\n"
          ],
          "name": "stdout"
        }
      ]
    },
    {
      "cell_type": "code",
      "metadata": {
        "id": "KILBcl7488UE",
        "colab_type": "code",
        "outputId": "2b230a18-4134-457b-c1b2-0e502ada252d",
        "colab": {
          "base_uri": "https://localhost:8080/",
          "height": 187
        }
      },
      "source": [
        "test_predictions = model.predict_classes(x_test, batch_size=128, verbose=0) \n",
        "import numpy as np\n",
        "rounded_labels=np.argmax(y_test, axis=1)\n",
        "rounded_labels[1]\n",
        "cm = confusion_matrix(rounded_labels, test_predictions)\n",
        "print(cm)"
      ],
      "execution_count": 0,
      "outputs": [
        {
          "output_type": "stream",
          "text": [
            "[[ 976    0    1    0    0    0    1    1    1    0]\n",
            " [   0 1128    1    2    1    0    3    0    0    0]\n",
            " [   2    2 1022    0    1    0    1    4    0    0]\n",
            " [   0    0    1 1004    0    3    0    0    2    0]\n",
            " [   0    0    0    0  976    0    4    0    0    2]\n",
            " [   2    0    0    4    0  882    3    0    1    0]\n",
            " [   6    1    0    0    1    2  948    0    0    0]\n",
            " [   1    2    4    2    0    0    0 1017    1    1]\n",
            " [   5    1    3    1    0    0    1    1  961    1]\n",
            " [   3    2    0    1    6    4    0    3    2  988]]\n"
          ],
          "name": "stdout"
        }
      ]
    },
    {
      "cell_type": "code",
      "metadata": {
        "id": "fsFE3OrDQyqs",
        "colab_type": "code",
        "outputId": "890b877b-febd-4962-ed7e-5e6792146e3f",
        "colab": {
          "base_uri": "https://localhost:8080/",
          "height": 34
        }
      },
      "source": [
        "acc = accuracy_score(rounded_labels,test_predictions)\n",
        "print(acc)"
      ],
      "execution_count": 0,
      "outputs": [
        {
          "output_type": "stream",
          "text": [
            "0.9902\n"
          ],
          "name": "stdout"
        }
      ]
    },
    {
      "cell_type": "code",
      "metadata": {
        "id": "TTywGWAoXb6c",
        "colab_type": "code",
        "outputId": "e8604999-1557-4528-9195-d346339a3b90",
        "colab": {
          "base_uri": "https://localhost:8080/",
          "height": 323
        }
      },
      "source": [
        "print(\"classification_report:\")\n",
        "print(classification_report(rounded_labels, test_predictions, target_names= None))"
      ],
      "execution_count": 0,
      "outputs": [
        {
          "output_type": "stream",
          "text": [
            "classification_report:\n",
            "              precision    recall  f1-score   support\n",
            "\n",
            "           0       0.99      1.00      0.99       980\n",
            "           1       0.99      1.00      0.99      1135\n",
            "           2       1.00      0.99      0.99      1032\n",
            "           3       0.99      1.00      0.99      1010\n",
            "           4       0.99      0.99      0.99       982\n",
            "           5       0.99      0.99      0.99       892\n",
            "           6       0.99      0.99      0.99       958\n",
            "           7       1.00      0.99      1.00      1028\n",
            "           8       0.99      0.99      0.99       974\n",
            "           9       1.00      0.99      0.99      1009\n",
            "\n",
            "    accuracy                           0.99     10000\n",
            "   macro avg       0.99      0.99      0.99     10000\n",
            "weighted avg       0.99      0.99      0.99     10000\n",
            "\n"
          ],
          "name": "stdout"
        }
      ]
    },
    {
      "cell_type": "markdown",
      "metadata": {
        "id": "ZmQSUEm47LZE",
        "colab_type": "text"
      },
      "source": [
        "### **12. Using tanh activation function Without Dropout Layer**"
      ]
    },
    {
      "cell_type": "code",
      "metadata": {
        "id": "38JKqMbg7A-q",
        "colab_type": "code",
        "outputId": "6c46f8a1-5480-4e09-9e3c-f6d235fd8c80",
        "colab": {
          "base_uri": "https://localhost:8080/",
          "height": 476
        }
      },
      "source": [
        "model = keras.models.Sequential()\n",
        "model = Sequential()\n",
        "model.add(Conv2D(32, kernel_size=(3, 3),activation='tanh',input_shape=input_shape))\n",
        "model.add(Conv2D(64, (3, 3), activation='tanh'))\n",
        "model.add(Conv2D(64, (3, 3), activation='tanh'))\n",
        "model.add(MaxPooling2D(pool_size=(2, 2)))\n",
        "model.add(Flatten())\n",
        "model.add(Dense(128, activation='tanh'))\n",
        "model.add(Dense(num_classes, activation='softmax'))\n",
        "\n",
        "model.compile(loss=keras.losses.categorical_crossentropy,\n",
        "              optimizer=keras.optimizers.Adadelta(),\n",
        "              metrics=['accuracy'])\n",
        " \n",
        "model.fit(x_train, y_train,\n",
        "          batch_size=batch_size,\n",
        "          epochs=epochs,\n",
        "          verbose=1,\n",
        "          validation_data=(x_test, y_test))\n",
        "score = model.evaluate(x_test, y_test, verbose=0)\n",
        "print('Test loss:', score[0])\n",
        "print('Test accuracy:', score[1])"
      ],
      "execution_count": 0,
      "outputs": [
        {
          "output_type": "stream",
          "text": [
            "Train on 60000 samples, validate on 10000 samples\n",
            "Epoch 1/12\n",
            "60000/60000 [==============================] - 300s 5ms/step - loss: 0.1613 - accuracy: 0.9510 - val_loss: 0.0576 - val_accuracy: 0.9814\n",
            "Epoch 2/12\n",
            "60000/60000 [==============================] - 300s 5ms/step - loss: 0.0467 - accuracy: 0.9869 - val_loss: 0.0446 - val_accuracy: 0.9853\n",
            "Epoch 3/12\n",
            "60000/60000 [==============================] - 305s 5ms/step - loss: 0.0270 - accuracy: 0.9923 - val_loss: 0.0398 - val_accuracy: 0.9874\n",
            "Epoch 4/12\n",
            "60000/60000 [==============================] - 301s 5ms/step - loss: 0.0155 - accuracy: 0.9958 - val_loss: 0.0349 - val_accuracy: 0.9898\n",
            "Epoch 5/12\n",
            "60000/60000 [==============================] - 301s 5ms/step - loss: 0.0080 - accuracy: 0.9985 - val_loss: 0.0306 - val_accuracy: 0.9905\n",
            "Epoch 6/12\n",
            "60000/60000 [==============================] - 304s 5ms/step - loss: 0.0037 - accuracy: 0.9995 - val_loss: 0.0292 - val_accuracy: 0.9906\n",
            "Epoch 7/12\n",
            "60000/60000 [==============================] - 300s 5ms/step - loss: 0.0018 - accuracy: 0.9999 - val_loss: 0.0292 - val_accuracy: 0.9913\n",
            "Epoch 8/12\n",
            "60000/60000 [==============================] - 300s 5ms/step - loss: 0.0011 - accuracy: 0.9999 - val_loss: 0.0298 - val_accuracy: 0.9910\n",
            "Epoch 9/12\n",
            "60000/60000 [==============================] - 300s 5ms/step - loss: 8.1297e-04 - accuracy: 1.0000 - val_loss: 0.0297 - val_accuracy: 0.9912\n",
            "Epoch 10/12\n",
            "60000/60000 [==============================] - 300s 5ms/step - loss: 6.4589e-04 - accuracy: 1.0000 - val_loss: 0.0297 - val_accuracy: 0.9914\n",
            "Epoch 11/12\n",
            "60000/60000 [==============================] - 300s 5ms/step - loss: 5.4227e-04 - accuracy: 1.0000 - val_loss: 0.0301 - val_accuracy: 0.9915\n",
            "Epoch 12/12\n",
            "60000/60000 [==============================] - 299s 5ms/step - loss: 4.7535e-04 - accuracy: 1.0000 - val_loss: 0.0305 - val_accuracy: 0.9918\n",
            "Test loss: 0.03045834731617997\n",
            "Test accuracy: 0.9918000102043152\n"
          ],
          "name": "stdout"
        }
      ]
    },
    {
      "cell_type": "code",
      "metadata": {
        "id": "_IgX-RVY89iS",
        "colab_type": "code",
        "outputId": "1180abcc-5c26-41f3-f5ba-b576370830e5",
        "colab": {
          "base_uri": "https://localhost:8080/",
          "height": 187
        }
      },
      "source": [
        "test_predictions = model.predict_classes(x_test, batch_size=128, verbose=0) \n",
        "import numpy as np\n",
        "rounded_labels=np.argmax(y_test, axis=1)\n",
        "rounded_labels[1]\n",
        "cm = confusion_matrix(rounded_labels, test_predictions)\n",
        "print(cm)"
      ],
      "execution_count": 0,
      "outputs": [
        {
          "output_type": "stream",
          "text": [
            "[[ 976    0    0    0    0    0    1    1    2    0]\n",
            " [   0 1128    1    1    0    0    3    1    1    0]\n",
            " [   1    2 1023    0    1    0    0    4    1    0]\n",
            " [   0    0    2 1005    0    2    0    0    1    0]\n",
            " [   0    0    0    0  975    0    4    0    0    3]\n",
            " [   1    0    0    5    0  885    1    0    0    0]\n",
            " [   5    2    0    1    1    3  945    0    1    0]\n",
            " [   0    1    5    1    0    0    0 1020    1    0]\n",
            " [   3    0    3    1    0    0    0    1  965    1]\n",
            " [   0    1    0    2    4    1    1    3    1  996]]\n"
          ],
          "name": "stdout"
        }
      ]
    },
    {
      "cell_type": "code",
      "metadata": {
        "id": "u8yj-xjrcKGz",
        "colab_type": "code",
        "outputId": "1ce2b0be-5218-41ae-c014-392bdf6f834b",
        "colab": {
          "base_uri": "https://localhost:8080/",
          "height": 323
        }
      },
      "source": [
        "print(\"classification_report:\")\n",
        "print(classification_report(rounded_labels, test_predictions, target_names= None))"
      ],
      "execution_count": 0,
      "outputs": [
        {
          "output_type": "stream",
          "text": [
            "classification_report:\n",
            "              precision    recall  f1-score   support\n",
            "\n",
            "           0       0.99      1.00      0.99       980\n",
            "           1       0.99      1.00      0.99      1135\n",
            "           2       1.00      0.99      0.99      1032\n",
            "           3       0.99      1.00      0.99      1010\n",
            "           4       0.99      0.99      0.99       982\n",
            "           5       0.99      0.99      0.99       892\n",
            "           6       0.99      0.99      0.99       958\n",
            "           7       1.00      0.99      1.00      1028\n",
            "           8       0.99      0.99      0.99       974\n",
            "           9       1.00      0.99      0.99      1009\n",
            "\n",
            "    accuracy                           0.99     10000\n",
            "   macro avg       0.99      0.99      0.99     10000\n",
            "weighted avg       0.99      0.99      0.99     10000\n",
            "\n"
          ],
          "name": "stdout"
        }
      ]
    },
    {
      "cell_type": "markdown",
      "metadata": {
        "id": "YotZedF97qky",
        "colab_type": "text"
      },
      "source": [
        "### **13. Using relu activation function without dropout layer**"
      ]
    },
    {
      "cell_type": "code",
      "metadata": {
        "id": "D5Pbie1x7dij",
        "colab_type": "code",
        "outputId": "d368ddfc-a159-4174-bf0d-95f7dc505572",
        "colab": {
          "base_uri": "https://localhost:8080/",
          "height": 476
        }
      },
      "source": [
        "model = keras.models.Sequential()\n",
        "model = Sequential()\n",
        "model.add(Conv2D(32, kernel_size=(3, 3),activation='relu',input_shape=input_shape))\n",
        "model.add(Conv2D(64, (3, 3), activation='relu'))\n",
        "model.add(Conv2D(64, (3, 3), activation='relu'))\n",
        "model.add(MaxPooling2D(pool_size=(2, 2)))\n",
        "model.add(Flatten())\n",
        "model.add(Dense(128, activation='tanh'))\n",
        "model.add(Dense(num_classes, activation='softmax'))\n",
        "model.compile(loss=keras.losses.categorical_crossentropy,\n",
        "              optimizer=keras.optimizers.Adadelta(),\n",
        "              metrics=['accuracy'])\n",
        " \n",
        "model.fit(x_train, y_train,\n",
        "          batch_size=batch_size,\n",
        "          epochs=epochs,\n",
        "          verbose=1,\n",
        "          validation_data=(x_test, y_test))\n",
        "score = model.evaluate(x_test, y_test, verbose=0)\n",
        "print('Test loss:', score[0])\n",
        "print('Test accuracy:', score[1])"
      ],
      "execution_count": 0,
      "outputs": [
        {
          "output_type": "stream",
          "text": [
            "Train on 60000 samples, validate on 10000 samples\n",
            "Epoch 1/12\n",
            "60000/60000 [==============================] - 296s 5ms/step - loss: 0.1593 - accuracy: 0.9516 - val_loss: 0.0523 - val_accuracy: 0.9833\n",
            "Epoch 2/12\n",
            "60000/60000 [==============================] - 297s 5ms/step - loss: 0.0398 - accuracy: 0.9880 - val_loss: 0.0365 - val_accuracy: 0.9878\n",
            "Epoch 3/12\n",
            "60000/60000 [==============================] - 296s 5ms/step - loss: 0.0237 - accuracy: 0.9930 - val_loss: 0.0347 - val_accuracy: 0.9892\n",
            "Epoch 4/12\n",
            "60000/60000 [==============================] - 296s 5ms/step - loss: 0.0150 - accuracy: 0.9958 - val_loss: 0.0305 - val_accuracy: 0.9895\n",
            "Epoch 5/12\n",
            "60000/60000 [==============================] - 295s 5ms/step - loss: 0.0093 - accuracy: 0.9977 - val_loss: 0.0270 - val_accuracy: 0.9915\n",
            "Epoch 6/12\n",
            "60000/60000 [==============================] - 294s 5ms/step - loss: 0.0055 - accuracy: 0.9988 - val_loss: 0.0264 - val_accuracy: 0.9922\n",
            "Epoch 7/12\n",
            "60000/60000 [==============================] - 294s 5ms/step - loss: 0.0033 - accuracy: 0.9993 - val_loss: 0.0269 - val_accuracy: 0.9915\n",
            "Epoch 8/12\n",
            "60000/60000 [==============================] - 301s 5ms/step - loss: 0.0019 - accuracy: 0.9997 - val_loss: 0.0263 - val_accuracy: 0.9922\n",
            "Epoch 9/12\n",
            "60000/60000 [==============================] - 296s 5ms/step - loss: 0.0013 - accuracy: 0.9998 - val_loss: 0.0258 - val_accuracy: 0.9925\n",
            "Epoch 10/12\n",
            "60000/60000 [==============================] - 302s 5ms/step - loss: 8.4725e-04 - accuracy: 0.9999 - val_loss: 0.0270 - val_accuracy: 0.9929\n",
            "Epoch 11/12\n",
            "60000/60000 [==============================] - 297s 5ms/step - loss: 6.6467e-04 - accuracy: 0.9999 - val_loss: 0.0276 - val_accuracy: 0.9924\n",
            "Epoch 12/12\n",
            "60000/60000 [==============================] - 297s 5ms/step - loss: 5.5567e-04 - accuracy: 0.9999 - val_loss: 0.0277 - val_accuracy: 0.9924\n",
            "Test loss: 0.027684225863195387\n",
            "Test accuracy: 0.9923999905586243\n"
          ],
          "name": "stdout"
        }
      ]
    },
    {
      "cell_type": "code",
      "metadata": {
        "id": "imuPd7rY8-1h",
        "colab_type": "code",
        "outputId": "2c61550a-6f59-45bc-c438-383541643aa4",
        "colab": {
          "base_uri": "https://localhost:8080/",
          "height": 187
        }
      },
      "source": [
        "test_predictions = model.predict_classes(x_test, batch_size=128, verbose=0) \n",
        "import numpy as np\n",
        "rounded_labels=np.argmax(y_test, axis=1)\n",
        "rounded_labels[1]\n",
        "cm = confusion_matrix(rounded_labels, test_predictions)\n",
        "print(cm)"
      ],
      "execution_count": 0,
      "outputs": [
        {
          "output_type": "stream",
          "text": [
            "[[ 976    0    0    0    0    0    1    1    2    0]\n",
            " [   0 1133    0    0    0    0    1    1    0    0]\n",
            " [   1    1 1027    0    1    0    0    1    1    0]\n",
            " [   0    0    2 1005    0    2    0    0    1    0]\n",
            " [   0    0    1    0  975    0    2    0    1    3]\n",
            " [   2    0    0    6    0  882    2    0    0    0]\n",
            " [   5    2    0    0    1    1  948    0    1    0]\n",
            " [   0    1    7    0    1    0    0 1016    1    2]\n",
            " [   2    0    2    1    1    0    0    1  966    1]\n",
            " [   0    0    0    0    4    3    0    3    3  996]]\n"
          ],
          "name": "stdout"
        }
      ]
    },
    {
      "cell_type": "code",
      "metadata": {
        "id": "CA87I7eDow16",
        "colab_type": "code",
        "outputId": "7ae71b12-68ee-4c96-b3be-01354a9e2c9c",
        "colab": {
          "base_uri": "https://localhost:8080/",
          "height": 323
        }
      },
      "source": [
        "print(\"classification_report:\")\n",
        "print(classification_report(rounded_labels, test_predictions, target_names= None))"
      ],
      "execution_count": 0,
      "outputs": [
        {
          "output_type": "stream",
          "text": [
            "classification_report:\n",
            "              precision    recall  f1-score   support\n",
            "\n",
            "           0       0.99      1.00      0.99       980\n",
            "           1       0.99      1.00      0.99      1135\n",
            "           2       1.00      0.99      0.99      1032\n",
            "           3       0.99      1.00      0.99      1010\n",
            "           4       0.99      0.99      0.99       982\n",
            "           5       0.99      0.99      0.99       892\n",
            "           6       0.99      0.99      0.99       958\n",
            "           7       1.00      0.99      1.00      1028\n",
            "           8       0.99      0.99      0.99       974\n",
            "           9       1.00      0.99      0.99      1009\n",
            "\n",
            "    accuracy                           0.99     10000\n",
            "   macro avg       0.99      0.99      0.99     10000\n",
            "weighted avg       0.99      0.99      0.99     10000\n",
            "\n"
          ],
          "name": "stdout"
        }
      ]
    },
    {
      "cell_type": "markdown",
      "metadata": {
        "id": "AN3-W8bAfQiN",
        "colab_type": "text"
      },
      "source": [
        "### **14.Using tanh, relu and tanh activation function with kernel size(4,4) and (5,5), (5,5) without dropout layer**"
      ]
    },
    {
      "cell_type": "code",
      "metadata": {
        "id": "Xq2NPpsEfjMX",
        "colab_type": "code",
        "outputId": "0181f1a6-3413-4999-b15c-5df7b60b5ecf",
        "colab": {
          "base_uri": "https://localhost:8080/",
          "height": 476
        }
      },
      "source": [
        "model = keras.models.Sequential()\n",
        "model = Sequential()\n",
        "model.add(Conv2D(32, kernel_size=(4, 4),activation='tanh',input_shape=input_shape))\n",
        "model.add(Conv2D(64, (5, 5), activation='relu'))\n",
        "model.add(Conv2D(64, (5, 5), activation='tanh'))\n",
        "model.add(MaxPooling2D(pool_size=(2, 2)))\n",
        "model.add(Flatten())\n",
        "model.add(Dense(128, activation='tanh'))\n",
        "model.add(Dense(num_classes, activation='softmax'))\n",
        "model.compile(loss=keras.losses.categorical_crossentropy,\n",
        "              optimizer=keras.optimizers.Adadelta(),\n",
        "              metrics=['accuracy'])\n",
        " \n",
        "model.fit(x_train, y_train,\n",
        "          batch_size=batch_size,\n",
        "          epochs=epochs,\n",
        "          verbose=1,\n",
        "          validation_data=(x_test, y_test))\n",
        "score = model.evaluate(x_test, y_test, verbose=0)\n",
        "print('Test loss:', score[0])\n",
        "print('Test accuracy:', score[1])"
      ],
      "execution_count": 0,
      "outputs": [
        {
          "output_type": "stream",
          "text": [
            "Train on 60000 samples, validate on 10000 samples\n",
            "Epoch 1/12\n",
            "60000/60000 [==============================] - 506s 8ms/step - loss: 0.1516 - accuracy: 0.9533 - val_loss: 0.0585 - val_accuracy: 0.9825\n",
            "Epoch 2/12\n",
            "60000/60000 [==============================] - 506s 8ms/step - loss: 0.0414 - accuracy: 0.9877 - val_loss: 0.0397 - val_accuracy: 0.9871\n",
            "Epoch 3/12\n",
            "60000/60000 [==============================] - 507s 8ms/step - loss: 0.0257 - accuracy: 0.9924 - val_loss: 0.0280 - val_accuracy: 0.9907\n",
            "Epoch 4/12\n",
            "60000/60000 [==============================] - 506s 8ms/step - loss: 0.0166 - accuracy: 0.9951 - val_loss: 0.0267 - val_accuracy: 0.9910\n",
            "Epoch 5/12\n",
            "60000/60000 [==============================] - 505s 8ms/step - loss: 0.0103 - accuracy: 0.9972 - val_loss: 0.0267 - val_accuracy: 0.9906\n",
            "Epoch 6/12\n",
            "60000/60000 [==============================] - 507s 8ms/step - loss: 0.0058 - accuracy: 0.9988 - val_loss: 0.0261 - val_accuracy: 0.9910\n",
            "Epoch 7/12\n",
            "60000/60000 [==============================] - 506s 8ms/step - loss: 0.0033 - accuracy: 0.9995 - val_loss: 0.0237 - val_accuracy: 0.9922\n",
            "Epoch 8/12\n",
            "60000/60000 [==============================] - 512s 9ms/step - loss: 0.0018 - accuracy: 0.9997 - val_loss: 0.0227 - val_accuracy: 0.9926\n",
            "Epoch 9/12\n",
            "60000/60000 [==============================] - 513s 9ms/step - loss: 0.0013 - accuracy: 0.9998 - val_loss: 0.0232 - val_accuracy: 0.9930\n",
            "Epoch 10/12\n",
            "60000/60000 [==============================] - 507s 8ms/step - loss: 9.1583e-04 - accuracy: 0.9999 - val_loss: 0.0237 - val_accuracy: 0.9925\n",
            "Epoch 11/12\n",
            "60000/60000 [==============================] - 505s 8ms/step - loss: 7.2698e-04 - accuracy: 0.9999 - val_loss: 0.0235 - val_accuracy: 0.9927\n",
            "Epoch 12/12\n",
            "60000/60000 [==============================] - 505s 8ms/step - loss: 5.9148e-04 - accuracy: 0.9999 - val_loss: 0.0238 - val_accuracy: 0.9930\n",
            "Test loss: 0.02377149461625413\n",
            "Test accuracy: 0.9929999709129333\n"
          ],
          "name": "stdout"
        }
      ]
    },
    {
      "cell_type": "code",
      "metadata": {
        "id": "KvwhGDP9gBtZ",
        "colab_type": "code",
        "outputId": "99eb099f-52c1-4904-d0ce-771e51c9c3c2",
        "colab": {
          "base_uri": "https://localhost:8080/",
          "height": 187
        }
      },
      "source": [
        "test_predictions = model.predict_classes(x_test, batch_size=128, verbose=0) \n",
        "import numpy as np\n",
        "rounded_labels=np.argmax(y_test, axis=1)\n",
        "rounded_labels[1]\n",
        "cm = confusion_matrix(rounded_labels, test_predictions)\n",
        "print(cm)"
      ],
      "execution_count": 0,
      "outputs": [
        {
          "output_type": "stream",
          "text": [
            "[[ 977    1    0    0    0    0    1    0    1    0]\n",
            " [   0 1131    0    1    1    0    1    0    1    0]\n",
            " [   2    2 1026    0    0    0    0    2    0    0]\n",
            " [   0    0    1 1005    0    2    0    0    2    0]\n",
            " [   0    0    1    0  977    0    3    0    0    1]\n",
            " [   1    0    0    6    0  883    1    0    1    0]\n",
            " [   4    2    0    1    1    2  946    0    2    0]\n",
            " [   0    2    2    0    0    0    0 1022    1    1]\n",
            " [   3    0    1    1    0    1    0    1  966    1]\n",
            " [   0    1    0    0    5    3    0    1    2  997]]\n"
          ],
          "name": "stdout"
        }
      ]
    },
    {
      "cell_type": "code",
      "metadata": {
        "id": "JMI03gV-nqPE",
        "colab_type": "code",
        "outputId": "9525ab97-f8a4-48d3-bbe1-aa583f5ccf58",
        "colab": {
          "base_uri": "https://localhost:8080/",
          "height": 323
        }
      },
      "source": [
        "print(\"classification_report:\")\n",
        "print(classification_report(rounded_labels, test_predictions, target_names= None))"
      ],
      "execution_count": 0,
      "outputs": [
        {
          "output_type": "stream",
          "text": [
            "classification_report:\n",
            "              precision    recall  f1-score   support\n",
            "\n",
            "           0       0.99      1.00      0.99       980\n",
            "           1       0.99      1.00      0.99      1135\n",
            "           2       1.00      0.99      0.99      1032\n",
            "           3       0.99      1.00      0.99      1010\n",
            "           4       0.99      0.99      0.99       982\n",
            "           5       0.99      0.99      0.99       892\n",
            "           6       0.99      0.99      0.99       958\n",
            "           7       1.00      0.99      1.00      1028\n",
            "           8       0.99      0.99      0.99       974\n",
            "           9       1.00      0.99      0.99      1009\n",
            "\n",
            "    accuracy                           0.99     10000\n",
            "   macro avg       0.99      0.99      0.99     10000\n",
            "weighted avg       0.99      0.99      0.99     10000\n",
            "\n"
          ],
          "name": "stdout"
        }
      ]
    },
    {
      "cell_type": "markdown",
      "metadata": {
        "id": "WrJigY5N8QZO",
        "colab_type": "text"
      },
      "source": [
        "### **15. Using 5 CNN layers**"
      ]
    },
    {
      "cell_type": "code",
      "metadata": {
        "id": "cyVJUfNQ7tzL",
        "colab_type": "code",
        "outputId": "eec9f0f4-eed1-4383-d8ac-01d3e6640c4d",
        "colab": {
          "base_uri": "https://localhost:8080/",
          "height": 476
        }
      },
      "source": [
        "model = keras.models.Sequential()\n",
        "model = Sequential()\n",
        "model.add(Conv2D(32, kernel_size=(3, 3),activation='tanh',input_shape=input_shape))\n",
        "model.add(Conv2D(64, (3, 3), activation='tanh'))\n",
        "model.add(Conv2D(64, (3, 3), activation='tanh'))\n",
        "model.add(Conv2D(64, (3, 3), activation='tanh'))\n",
        "model.add(Conv2D(64, (3, 3), activation='tanh'))\n",
        "model.add(MaxPooling2D(pool_size=(2, 2)))\n",
        "model.add(Dropout(0.25))\n",
        "model.add(Flatten())\n",
        "model.add(Dense(128, activation='tanh'))\n",
        "model.add(Dropout(0.5))\n",
        "model.add(Dense(num_classes, activation='softmax'))\n",
        "\n",
        "model.compile(loss=keras.losses.categorical_crossentropy,\n",
        "              optimizer=keras.optimizers.Adadelta(),\n",
        "              metrics=['accuracy'])\n",
        " \n",
        "model.fit(x_train, y_train,\n",
        "          batch_size=batch_size,\n",
        "          epochs=epochs,\n",
        "          verbose=1,\n",
        "          validation_data=(x_test, y_test))\n",
        "score = model.evaluate(x_test, y_test, verbose=0)\n",
        "print('Test loss:', score[0])\n",
        "print('Test accuracy:', score[1])"
      ],
      "execution_count": 0,
      "outputs": [
        {
          "output_type": "stream",
          "text": [
            "Train on 60000 samples, validate on 10000 samples\n",
            "Epoch 1/12\n",
            "60000/60000 [==============================] - 471s 8ms/step - loss: 0.2366 - accuracy: 0.9277 - val_loss: 0.0899 - val_accuracy: 0.9721\n",
            "Epoch 2/12\n",
            "60000/60000 [==============================] - 472s 8ms/step - loss: 0.0913 - accuracy: 0.9726 - val_loss: 0.0435 - val_accuracy: 0.9853\n",
            "Epoch 3/12\n",
            "60000/60000 [==============================] - 471s 8ms/step - loss: 0.0716 - accuracy: 0.9776 - val_loss: 0.0386 - val_accuracy: 0.9870\n",
            "Epoch 4/12\n",
            "60000/60000 [==============================] - 472s 8ms/step - loss: 0.0589 - accuracy: 0.9819 - val_loss: 0.0320 - val_accuracy: 0.9897\n",
            "Epoch 5/12\n",
            "60000/60000 [==============================] - 468s 8ms/step - loss: 0.0523 - accuracy: 0.9839 - val_loss: 0.0317 - val_accuracy: 0.9894\n",
            "Epoch 6/12\n",
            "60000/60000 [==============================] - 476s 8ms/step - loss: 0.0446 - accuracy: 0.9860 - val_loss: 0.0297 - val_accuracy: 0.9906\n",
            "Epoch 7/12\n",
            "60000/60000 [==============================] - 478s 8ms/step - loss: 0.0403 - accuracy: 0.9877 - val_loss: 0.0324 - val_accuracy: 0.9883\n",
            "Epoch 8/12\n",
            "60000/60000 [==============================] - 471s 8ms/step - loss: 0.0377 - accuracy: 0.9883 - val_loss: 0.0310 - val_accuracy: 0.9902\n",
            "Epoch 9/12\n",
            "60000/60000 [==============================] - 471s 8ms/step - loss: 0.0354 - accuracy: 0.9890 - val_loss: 0.0278 - val_accuracy: 0.9910\n",
            "Epoch 10/12\n",
            "60000/60000 [==============================] - 471s 8ms/step - loss: 0.0317 - accuracy: 0.9902 - val_loss: 0.0285 - val_accuracy: 0.9901\n",
            "Epoch 11/12\n",
            "60000/60000 [==============================] - 468s 8ms/step - loss: 0.0292 - accuracy: 0.9908 - val_loss: 0.0278 - val_accuracy: 0.9910\n",
            "Epoch 12/12\n",
            "60000/60000 [==============================] - 475s 8ms/step - loss: 0.0277 - accuracy: 0.9913 - val_loss: 0.0333 - val_accuracy: 0.9892\n",
            "Test loss: 0.0332552084883675\n",
            "Test accuracy: 0.9891999959945679\n"
          ],
          "name": "stdout"
        }
      ]
    },
    {
      "cell_type": "code",
      "metadata": {
        "id": "B7rDliHt9AQV",
        "colab_type": "code",
        "outputId": "2c494dfc-40a8-4d79-9118-f3fb91aea155",
        "colab": {
          "base_uri": "https://localhost:8080/",
          "height": 187
        }
      },
      "source": [
        "test_predictions = model.predict_classes(x_test, batch_size=128, verbose=0) \n",
        "import numpy as np\n",
        "rounded_labels=np.argmax(y_test, axis=1)\n",
        "rounded_labels[1]\n",
        "cm = confusion_matrix(rounded_labels, test_predictions)\n",
        "print(cm)"
      ],
      "execution_count": 0,
      "outputs": [
        {
          "output_type": "stream",
          "text": [
            "[[ 976    1    1    0    0    0    1    1    0    0]\n",
            " [   0 1135    0    0    0    0    0    0    0    0]\n",
            " [   1    7 1015    2    1    0    1    5    0    0]\n",
            " [   0    0    1  998    0    6    0    3    1    1]\n",
            " [   1    1    0    0  969    0    5    0    1    5]\n",
            " [   2    0    0    2    0  885    2    1    0    0]\n",
            " [   4    4    0    1    0    2  947    0    0    0]\n",
            " [   0    2    1    1    0    0    0 1023    1    0]\n",
            " [   3    1    4    1    2    3    2    2  953    3]\n",
            " [   2    4    0    0    5    3    0    2    2  991]]\n"
          ],
          "name": "stdout"
        }
      ]
    },
    {
      "cell_type": "code",
      "metadata": {
        "id": "TX83A7GOloHn",
        "colab_type": "code",
        "outputId": "4958e506-6fc4-49bc-fc6d-5bb5ffa0f9b0",
        "colab": {
          "base_uri": "https://localhost:8080/",
          "height": 323
        }
      },
      "source": [
        "print(\"classification_report:\")\n",
        "print(classification_report(rounded_labels, test_predictions, target_names= None))"
      ],
      "execution_count": 0,
      "outputs": [
        {
          "output_type": "stream",
          "text": [
            "classification_report:\n",
            "              precision    recall  f1-score   support\n",
            "\n",
            "           0       0.99      1.00      0.99       980\n",
            "           1       0.99      1.00      0.99      1135\n",
            "           2       1.00      0.99      0.99      1032\n",
            "           3       0.99      1.00      0.99      1010\n",
            "           4       0.99      0.99      0.99       982\n",
            "           5       0.99      0.99      0.99       892\n",
            "           6       0.99      0.99      0.99       958\n",
            "           7       1.00      0.99      1.00      1028\n",
            "           8       0.99      0.99      0.99       974\n",
            "           9       1.00      0.99      0.99      1009\n",
            "\n",
            "    accuracy                           0.99     10000\n",
            "   macro avg       0.99      0.99      0.99     10000\n",
            "weighted avg       0.99      0.99      0.99     10000\n",
            "\n"
          ],
          "name": "stdout"
        }
      ]
    },
    {
      "cell_type": "code",
      "metadata": {
        "id": "AK7-WAio4iOZ",
        "colab_type": "code",
        "colab": {}
      },
      "source": [
        ""
      ],
      "execution_count": 0,
      "outputs": []
    },
    {
      "cell_type": "code",
      "metadata": {
        "id": "8LlG-BCK4OYK",
        "colab_type": "code",
        "colab": {}
      },
      "source": [
        ""
      ],
      "execution_count": 0,
      "outputs": []
    },
    {
      "cell_type": "markdown",
      "metadata": {
        "id": "eqwWXtjsG9NQ",
        "colab_type": "text"
      },
      "source": [
        "### **16. By changing the activation function in various layers**"
      ]
    },
    {
      "cell_type": "code",
      "metadata": {
        "id": "x-kmKZ-gGxCh",
        "colab_type": "code",
        "outputId": "63452dcd-b504-4629-8835-8440d373f0a5",
        "colab": {
          "base_uri": "https://localhost:8080/",
          "height": 476
        }
      },
      "source": [
        "model = keras.models.Sequential()\n",
        "model = Sequential()\n",
        "model.add(Conv2D(32, kernel_size=(3, 3),activation='tanh',input_shape=input_shape))\n",
        "model.add(Conv2D(64, (3, 3), activation='tanh'))\n",
        "model.add(Conv2D(64, (3, 3), activation='relu'))\n",
        "model.add(Conv2D(64, (3, 3), activation='tanh'))\n",
        "model.add(Conv2D(64, (3, 3), activation='relu'))\n",
        "model.add(MaxPooling2D(pool_size=(2, 2)))\n",
        "model.add(Dropout(0.25))\n",
        "model.add(Flatten())\n",
        "model.add(Dense(128, activation='tanh'))\n",
        "model.add(Dropout(0.5))\n",
        "model.add(Dense(num_classes, activation='softmax'))\n",
        "\n",
        "model.compile(loss=keras.losses.categorical_crossentropy,\n",
        "              optimizer=keras.optimizers.Adadelta(),\n",
        "              metrics=['accuracy'])\n",
        " \n",
        "model.fit(x_train, y_train,\n",
        "          batch_size=batch_size,\n",
        "          epochs=epochs,\n",
        "          verbose=1,\n",
        "          validation_data=(x_test, y_test))\n",
        "score = model.evaluate(x_test, y_test, verbose=0)\n",
        "print('Test loss:', score[0])\n",
        "print('Test accuracy:', score[1])"
      ],
      "execution_count": 0,
      "outputs": [
        {
          "output_type": "stream",
          "text": [
            "Train on 60000 samples, validate on 10000 samples\n",
            "Epoch 1/12\n",
            "60000/60000 [==============================] - 472s 8ms/step - loss: 0.1894 - accuracy: 0.9416 - val_loss: 0.0458 - val_accuracy: 0.9849\n",
            "Epoch 2/12\n",
            "60000/60000 [==============================] - 471s 8ms/step - loss: 0.0657 - accuracy: 0.9801 - val_loss: 0.0306 - val_accuracy: 0.9900\n",
            "Epoch 3/12\n",
            "60000/60000 [==============================] - 472s 8ms/step - loss: 0.0513 - accuracy: 0.9845 - val_loss: 0.0343 - val_accuracy: 0.9892\n",
            "Epoch 4/12\n",
            "60000/60000 [==============================] - 471s 8ms/step - loss: 0.0431 - accuracy: 0.9871 - val_loss: 0.0275 - val_accuracy: 0.9911\n",
            "Epoch 5/12\n",
            "60000/60000 [==============================] - 471s 8ms/step - loss: 0.0369 - accuracy: 0.9886 - val_loss: 0.0225 - val_accuracy: 0.9929\n",
            "Epoch 6/12\n",
            "60000/60000 [==============================] - 468s 8ms/step - loss: 0.0318 - accuracy: 0.9900 - val_loss: 0.0251 - val_accuracy: 0.9920\n",
            "Epoch 7/12\n",
            "60000/60000 [==============================] - 476s 8ms/step - loss: 0.0271 - accuracy: 0.9917 - val_loss: 0.0247 - val_accuracy: 0.9921\n",
            "Epoch 8/12\n",
            "60000/60000 [==============================] - 479s 8ms/step - loss: 0.0242 - accuracy: 0.9927 - val_loss: 0.0193 - val_accuracy: 0.9935\n",
            "Epoch 9/12\n",
            "60000/60000 [==============================] - 473s 8ms/step - loss: 0.0257 - accuracy: 0.9922 - val_loss: 0.0259 - val_accuracy: 0.9923\n",
            "Epoch 10/12\n",
            "60000/60000 [==============================] - 473s 8ms/step - loss: 0.0225 - accuracy: 0.9932 - val_loss: 0.0198 - val_accuracy: 0.9933\n",
            "Epoch 11/12\n",
            "60000/60000 [==============================] - 473s 8ms/step - loss: 0.0196 - accuracy: 0.9939 - val_loss: 0.0190 - val_accuracy: 0.9938\n",
            "Epoch 12/12\n",
            "60000/60000 [==============================] - 474s 8ms/step - loss: 0.0173 - accuracy: 0.9948 - val_loss: 0.0192 - val_accuracy: 0.9941\n",
            "Test loss: 0.019162115343278857\n",
            "Test accuracy: 0.9940999746322632\n"
          ],
          "name": "stdout"
        }
      ]
    },
    {
      "cell_type": "code",
      "metadata": {
        "id": "ZKG7PhttIeic",
        "colab_type": "code",
        "outputId": "8ae28a4f-b10e-4318-8934-90199af153c8",
        "colab": {
          "base_uri": "https://localhost:8080/",
          "height": 204
        }
      },
      "source": [
        "test_predictions = model.predict_classes(x_test, batch_size=128, verbose=0) \n",
        "import numpy as np\n",
        "rounded_labels=np.argmax(y_test, axis=1)\n",
        "rounded_labels[1]\n",
        "print(\"Confusion_matrix:\")\n",
        "cm = confusion_matrix(rounded_labels, test_predictions)\n",
        "print(cm)\n"
      ],
      "execution_count": 0,
      "outputs": [
        {
          "output_type": "stream",
          "text": [
            "Confusion_matrix:\n",
            "[[ 977    1    0    0    0    0    1    0    1    0]\n",
            " [   0 1131    0    1    1    0    1    0    1    0]\n",
            " [   2    2 1026    0    0    0    0    2    0    0]\n",
            " [   0    0    1 1005    0    2    0    0    2    0]\n",
            " [   0    0    1    0  977    0    3    0    0    1]\n",
            " [   1    0    0    6    0  883    1    0    1    0]\n",
            " [   4    2    0    1    1    2  946    0    2    0]\n",
            " [   0    2    2    0    0    0    0 1022    1    1]\n",
            " [   3    0    1    1    0    1    0    1  966    1]\n",
            " [   0    1    0    0    5    3    0    1    2  997]]\n"
          ],
          "name": "stdout"
        }
      ]
    },
    {
      "cell_type": "code",
      "metadata": {
        "id": "iilItGTySVn5",
        "colab_type": "code",
        "outputId": "18cc6231-39d8-43c9-8fcc-bde11bc9dd02",
        "colab": {
          "base_uri": "https://localhost:8080/",
          "height": 323
        }
      },
      "source": [
        "print(\"classification_report:\")\n",
        "print(classification_report(rounded_labels, test_predictions, target_names= None))"
      ],
      "execution_count": 0,
      "outputs": [
        {
          "output_type": "stream",
          "text": [
            "classification_report:\n",
            "              precision    recall  f1-score   support\n",
            "\n",
            "           0       0.99      1.00      0.99       980\n",
            "           1       0.99      1.00      0.99      1135\n",
            "           2       1.00      0.99      0.99      1032\n",
            "           3       0.99      1.00      0.99      1010\n",
            "           4       0.99      0.99      0.99       982\n",
            "           5       0.99      0.99      0.99       892\n",
            "           6       0.99      0.99      0.99       958\n",
            "           7       1.00      0.99      1.00      1028\n",
            "           8       0.99      0.99      0.99       974\n",
            "           9       1.00      0.99      0.99      1009\n",
            "\n",
            "    accuracy                           0.99     10000\n",
            "   macro avg       0.99      0.99      0.99     10000\n",
            "weighted avg       0.99      0.99      0.99     10000\n",
            "\n"
          ],
          "name": "stdout"
        }
      ]
    },
    {
      "cell_type": "markdown",
      "metadata": {
        "colab_type": "text",
        "id": "1IMS0pNpHNjV"
      },
      "source": [
        "### **17. By changing the architecture**"
      ]
    },
    {
      "cell_type": "code",
      "metadata": {
        "id": "PfOS6RdeHHVW",
        "colab_type": "code",
        "outputId": "8131e6ed-e1d3-4cd0-8259-4e25b316243e",
        "colab": {
          "base_uri": "https://localhost:8080/",
          "height": 476
        }
      },
      "source": [
        "model = keras.models.Sequential()\n",
        "model = Sequential()\n",
        "model.add(Conv2D(32, kernel_size=(3, 3),activation='tanh',input_shape=input_shape))\n",
        "model.add(Conv2D(64, (3, 3), activation='tanh'))\n",
        "model.add(Conv2D(96, (3, 3), activation='tanh'))\n",
        "model.add(Conv2D(128, (3, 3), activation='tanh'))\n",
        "model.add(Conv2D(96, (3, 3), activation='tanh'))\n",
        "model.add(MaxPooling2D(pool_size=(2, 2)))\n",
        "model.add(Dropout(0.25))\n",
        "model.add(Flatten())\n",
        "model.add(Dense(128, activation='tanh'))\n",
        "model.add(Dropout(0.5))\n",
        "model.add(Dense(num_classes, activation='softmax'))\n",
        "model.compile(loss=keras.losses.categorical_crossentropy,\n",
        "              optimizer=keras.optimizers.Adadelta(),\n",
        "              metrics=['accuracy'])\n",
        "model.fit(x_train, y_train, batch_size=batch_size,epochs=epochs,verbose=1,\n",
        "          validation_data=(x_test, y_test))\n",
        "score = model.evaluate(x_test, y_test, verbose=0)\n",
        "print('Test loss:', score[0])\n",
        "print('Test accuracy:', score[1])"
      ],
      "execution_count": 0,
      "outputs": [
        {
          "output_type": "stream",
          "text": [
            "Train on 60000 samples, validate on 10000 samples\n",
            "Epoch 1/12\n",
            "60000/60000 [==============================] - 802s 13ms/step - loss: 0.2897 - accuracy: 0.9131 - val_loss: 0.0841 - val_accuracy: 0.9737\n",
            "Epoch 2/12\n",
            "60000/60000 [==============================] - 793s 13ms/step - loss: 0.1082 - accuracy: 0.9668 - val_loss: 0.0540 - val_accuracy: 0.9826\n",
            "Epoch 3/12\n",
            "60000/60000 [==============================] - 790s 13ms/step - loss: 0.0851 - accuracy: 0.9746 - val_loss: 0.0508 - val_accuracy: 0.9832\n",
            "Epoch 4/12\n",
            "60000/60000 [==============================] - 801s 13ms/step - loss: 0.0696 - accuracy: 0.9790 - val_loss: 0.0403 - val_accuracy: 0.9854\n",
            "Epoch 5/12\n",
            "60000/60000 [==============================] - 802s 13ms/step - loss: 0.0623 - accuracy: 0.9815 - val_loss: 0.0355 - val_accuracy: 0.9876\n",
            "Epoch 6/12\n",
            "60000/60000 [==============================] - 786s 13ms/step - loss: 0.0559 - accuracy: 0.9831 - val_loss: 0.0357 - val_accuracy: 0.9884\n",
            "Epoch 7/12\n",
            "60000/60000 [==============================] - 785s 13ms/step - loss: 0.0482 - accuracy: 0.9851 - val_loss: 0.0311 - val_accuracy: 0.9897\n",
            "Epoch 8/12\n",
            "60000/60000 [==============================] - 785s 13ms/step - loss: 0.0438 - accuracy: 0.9863 - val_loss: 0.0303 - val_accuracy: 0.9896\n",
            "Epoch 9/12\n",
            "60000/60000 [==============================] - 793s 13ms/step - loss: 0.0409 - accuracy: 0.9877 - val_loss: 0.0290 - val_accuracy: 0.9901\n",
            "Epoch 10/12\n",
            "60000/60000 [==============================] - 796s 13ms/step - loss: 0.0391 - accuracy: 0.9879 - val_loss: 0.0295 - val_accuracy: 0.9909\n",
            "Epoch 11/12\n",
            "60000/60000 [==============================] - 786s 13ms/step - loss: 0.0363 - accuracy: 0.9887 - val_loss: 0.0302 - val_accuracy: 0.9898\n",
            "Epoch 12/12\n",
            "60000/60000 [==============================] - 791s 13ms/step - loss: 0.0346 - accuracy: 0.9895 - val_loss: 0.0295 - val_accuracy: 0.9922\n",
            "Test loss: 0.029494663925014902\n",
            "Test accuracy: 0.9922000169754028\n"
          ],
          "name": "stdout"
        }
      ]
    },
    {
      "cell_type": "code",
      "metadata": {
        "id": "_c6NOgh0Ipe3",
        "colab_type": "code",
        "outputId": "88dbbfca-0bcf-43c4-c1e0-13a7a9bfa92c",
        "colab": {
          "base_uri": "https://localhost:8080/",
          "height": 187
        }
      },
      "source": [
        "test_predictions = model.predict_classes(x_test, batch_size=128, verbose=0) \n",
        "import numpy as np\n",
        "rounded_labels=np.argmax(y_test, axis=1)\n",
        "rounded_labels[1]\n",
        "cm = confusion_matrix(rounded_labels, test_predictions)\n",
        "print(cm)"
      ],
      "execution_count": 0,
      "outputs": [
        {
          "output_type": "stream",
          "text": [
            "[[ 977    1    0    0    0    0    1    0    1    0]\n",
            " [   0 1131    0    1    1    0    1    0    1    0]\n",
            " [   2    2 1026    0    0    0    0    2    0    0]\n",
            " [   0    0    1 1005    0    2    0    0    2    0]\n",
            " [   0    0    1    0  977    0    3    0    0    1]\n",
            " [   1    0    0    6    0  883    1    0    1    0]\n",
            " [   4    2    0    1    1    2  946    0    2    0]\n",
            " [   0    2    2    0    0    0    0 1022    1    1]\n",
            " [   3    0    1    1    0    1    0    1  966    1]\n",
            " [   0    1    0    0    5    3    0    1    2  997]]\n"
          ],
          "name": "stdout"
        }
      ]
    },
    {
      "cell_type": "code",
      "metadata": {
        "id": "R-j4pAIldD61",
        "colab_type": "code",
        "outputId": "805c27fc-fb2d-4835-b54b-d7587819818e",
        "colab": {
          "base_uri": "https://localhost:8080/",
          "height": 323
        }
      },
      "source": [
        "print(\"classification_report\")\n",
        "print(classification_report(rounded_labels, test_predictions, target_names= None))"
      ],
      "execution_count": 0,
      "outputs": [
        {
          "output_type": "stream",
          "text": [
            "classification_report\n",
            "              precision    recall  f1-score   support\n",
            "\n",
            "           0       0.99      1.00      0.99       980\n",
            "           1       0.99      1.00      0.99      1135\n",
            "           2       1.00      0.99      0.99      1032\n",
            "           3       0.99      1.00      0.99      1010\n",
            "           4       0.99      0.99      0.99       982\n",
            "           5       0.99      0.99      0.99       892\n",
            "           6       0.99      0.99      0.99       958\n",
            "           7       1.00      0.99      1.00      1028\n",
            "           8       0.99      0.99      0.99       974\n",
            "           9       1.00      0.99      0.99      1009\n",
            "\n",
            "    accuracy                           0.99     10000\n",
            "   macro avg       0.99      0.99      0.99     10000\n",
            "weighted avg       0.99      0.99      0.99     10000\n",
            "\n"
          ],
          "name": "stdout"
        }
      ]
    },
    {
      "cell_type": "markdown",
      "metadata": {
        "id": "ecxHdFJz2IR2",
        "colab_type": "text"
      },
      "source": [
        "# **RESULTS AND CONCLUSION**\n",
        "1.  Activation Function=relu,relu, No. of CNN layers=2, Kernel-size=(3,3),(3,3) , Dropout Layers=2, Dropout Rate=0.25,0.5, Test loss=0.0273, Test Accuracy=0.9916 \n",
        "2.  Activation Function=tanh,tanh, No. of CNN layers=2, Kernel-size=(3,3),(3,3)(3,3),(3,3), Dropout Layers=2, Dropout Rate=0.25,0.5, Test loss=0.0366 Test Accuracy=0.9890 \n",
        "3.  Activation Function=relu,tanh, No. of CNN layers=2, Kernel-size=(3,3),(3,3)(4,4), (3,3), Dropout Layers=2, Dropout Rate=0.25,0.5,Test loss=0.0292 Test Accuracy=0.9903 \n",
        "4.  Activation Function=relu,tanh, No. of CNN layers=2, Kernel-size=(3,3),(3,3)(3,3),(4,4), Dropout Layers=2, Dropout Rate=0.25,0.5, Test loss=0.0287 Test Accuracy=0.9919 \n",
        "5.  Activation Function=tanh,tanh, No. of CNN layers=2, Kernel-size=(3,3),(3,3)(4,4), (4,4), Dropout Layers=2, Dropout Rate=0.25,0.5,Test loss=0.0362 Test Accuracy=0.9890 \n",
        "6.  Activation Function=relu,relu, No. of CNN layers=2, Kernel-size=(3,3),(3,3)(4,4), (4,4), Dropout Layers=2, Dropout Rate=0.25,0.5, Test loss=0.0223 Test Accuracy=0.9929 \n",
        "7.  Activation Function=relu,relu, No. of CNN layers=2, Kernel-size=(3,3),(3,3)(5,5),(5,5), Dropout Layers=2, Dropout Rate=0.25,0.5, Test loss=0.0226 Test Accuracy=0.9929 \n",
        "8.  Activation Function=tanh,tanh, No. of CNN layers=2, Kernel-size=(3,3),(3,3)(5,5),(5,5), Dropout Layers=2, Dropout Rate=0.25,0.25, Test loss=0.0272 Test Accuracy=0.9902 \n",
        "9.  Activation Function=tanh, No. of CNN layers=3, Kernel-size=(3,3),(3,3)(3,3), (3,3), (3,3), Dropout Layers=2, Dropout Rate=0.25,0.5,Test loss=0.0366 Test Accuracy=0.9887 \n",
        "10.  Activation Function=relu, No. of CNN layers=3, Kernel-size=(3,3),(3,3)(3,3), (3,3), (3,3), Dropout Layers=2,  Dropout Rate=0.25,0.5, Test loss=0.0218,Test Accuracy= 0.9932 \n",
        "11.  Activation Function=tanh, No. of CNN layers=3, Kernel-size=(3,3),(3,3)(3,3), (3,3), (3,3), Dropout Layers=1, Dropout Rate=0.25, Test loss=0.0309, Test Accuracy=0.9901 \n",
        "12.  Activation Function=tanh, No. of CNN layers=3, Kernel-size=(3,3),(3,3)(3,3), (3,3), (3,3), Dropout Layers=0, Dropout Rate=NA, Test loss=0.0304, Test Accuracy=0.9918 \n",
        "13.  Activation Function=relu, No. of CNN layers=3, Kernel-size=(3,3),(3,3)(3,3), (3,3), (3,3), Dropout Layers=0, Dropout Rate=NA,Test loss=0.0276,Test Accuracy=0.9923 \n",
        "14.  Activation Function=tanh,relu,tanh, No. of CNN layers=3, Kernel-size=(3,3),(3,3)(4,4),(5,5),(5,5), Dropout Layers=0, Dropout Rate=NA,Test loss=0.0237 0.9929 \n",
        "15.  Activation Function=tanh, No. of CNN layers=5, Kernel-size=(3,3),(3,3)(3,3) for each layer, Dropout Layers=2, Dropout Rate=0.25,0.5,Test loss=0.0332,Test Accuracy=0.9891 \n",
        "16.  Activation Function=tanh,relu, No. of CNN layers=5, Kernel-size=(3,3),(3,3)(3,3) for each layer, Dropout Layers=2, Dropout Rate=0.25,0.5,Test loss=0.0191,Test Accuracy=0.9940 \n",
        "17.  Activation Function=tanh,relu, No. of CNN layers=5, Kernel-size=(3,3),(3,3)(3,3) for each layer, Dropout Layers=2, Dropout Rate=0.25,0.5, Test loss=0.0294,Test Accuracy=0.9922 \n",
        " \n",
        "After comparing different CNN models for MNIST dataset, the highest accuracy is 99.4%, which is obtained by using five CNN layers with kernel-size (3, 3) for each layer, two dropout layers with dropout rate 0.25, 0.5 respectively. The evaluation metrics such as precision, recall and f1-score are not compare because MNIST is very simple dataset are almost same for all models. \n",
        "                                                                    "
      ]
    }
  ]
}